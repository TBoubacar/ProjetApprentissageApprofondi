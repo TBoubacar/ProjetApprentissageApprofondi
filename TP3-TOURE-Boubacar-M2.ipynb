{
 "cells": [
  {
   "cell_type": "markdown",
   "id": "7c5dd04a-67ec-456f-9f62-61c478018d92",
   "metadata": {},
   "source": [
    "# TP3 - Deep Learning : Méthodologie, Expérimentations et Régularisation \n",
    "\n",
    "<p style=\"font-weight: bold; font-size: 16px;\"><span style=\"color: red;\">Auteur : </span>TOURE Boubacar (<a href=\"boubacar.toure@etud.univ-angers.fr\">boubacar.toure@etud.univ-angers.fr</a>), étudiant en Master 2 Informatique à la faculté des sciences d'Angers</p>\n",
    "<p style=\"font-weight: bold; font-size: 16px;\"><span style=\"color: red;\">Professeur Référent : </span>Sylvain Lamprier (<a href=\"sylvain.lamprier@univ-angers.fr\">sylvain.lamprier@univ-angers.fr</a>)</p>\n",
    "\n",
    "Supports adaptés de Nicolas Baskiotis (<a href=\"nicolas.baskiotis@sorbonne-univeriste.fr\">nicolas.baskiotis@sorbonne-univeriste.fr</a>) et Benjamin Piwowarski (<a href=\"benjamin.piwowarski@sorbonne-universite.fr\">benjamin.piwowarski@sorbonne-universite.fr</a>) -- MLIA/ISIR, Sorbonne Université"
   ]
  },
  {
   "cell_type": "markdown",
   "id": "d6a31723-13bc-45bb-957c-203b416f2a13",
   "metadata": {},
   "source": [
    "# Import du projet"
   ]
  },
  {
   "cell_type": "code",
   "execution_count": 3,
   "id": "4407ecdf-9996-405e-b0bf-6290b7517255",
   "metadata": {},
   "outputs": [
    {
     "ename": "ModuleNotFoundError",
     "evalue": "No module named 'torch'",
     "output_type": "error",
     "traceback": [
      "\u001b[0;31m---------------------------------------------------------------------------\u001b[0m",
      "\u001b[0;31mModuleNotFoundError\u001b[0m                       Traceback (most recent call last)",
      "\u001b[0;32m<ipython-input-3-f4431a8006b1>\u001b[0m in \u001b[0;36m<module>\u001b[0;34m\u001b[0m\n\u001b[1;32m      1\u001b[0m \u001b[0;32mimport\u001b[0m \u001b[0mmatplotlib\u001b[0m\u001b[0;34m.\u001b[0m\u001b[0mpyplot\u001b[0m \u001b[0;32mas\u001b[0m \u001b[0mplt\u001b[0m\u001b[0;34m\u001b[0m\u001b[0;34m\u001b[0m\u001b[0m\n\u001b[0;32m----> 2\u001b[0;31m \u001b[0;32mimport\u001b[0m \u001b[0mtorch\u001b[0m\u001b[0;34m.\u001b[0m\u001b[0mnn\u001b[0m \u001b[0;32mas\u001b[0m \u001b[0mnn\u001b[0m\u001b[0;34m\u001b[0m\u001b[0;34m\u001b[0m\u001b[0m\n\u001b[0m\u001b[1;32m      3\u001b[0m \u001b[0;32mimport\u001b[0m \u001b[0mshutil\u001b[0m\u001b[0;34m\u001b[0m\u001b[0;34m\u001b[0m\u001b[0m\n\u001b[1;32m      4\u001b[0m \u001b[0;32mimport\u001b[0m \u001b[0mtorch\u001b[0m\u001b[0;34m\u001b[0m\u001b[0;34m\u001b[0m\u001b[0m\n\u001b[1;32m      5\u001b[0m \u001b[0;32mimport\u001b[0m \u001b[0mtime\u001b[0m\u001b[0;34m\u001b[0m\u001b[0;34m\u001b[0m\u001b[0m\n",
      "\u001b[0;31mModuleNotFoundError\u001b[0m: No module named 'torch'"
     ]
    }
   ],
   "source": [
    "import matplotlib.pyplot as plt\n",
    "import torch.nn as nn\n",
    "import shutil\n",
    "import torch\n",
    "import time\n",
    "import os\n",
    "\n",
    "from torch.utils.tensorboard import SummaryWriter\n",
    "from torch.utils.data import DataLoader\n",
    "from torchvision.datasets import MNIST\n",
    "from torchvision import transforms\n",
    "\n",
    "from tqdm.autonotebook import tqdm\n",
    "from tqdm import tqdm"
   ]
  },
  {
   "cell_type": "markdown",
   "id": "b63c7ed9-a8e6-4ae5-adb2-e503752475ee",
   "metadata": {},
   "source": [
    "# Déclaration des fonctions "
   ]
  },
  {
   "cell_type": "code",
   "execution_count": 36,
   "id": "b1171038-b872-4958-9dbe-b5cfc2ea4619",
   "metadata": {},
   "outputs": [],
   "source": [
    "def save_state(fichier,epoch,model,optim):\n",
    "    state = {'epoch' : epoch, 'model_state': model.state_dict(), 'optim_state': optim.state_dict()}\n",
    "    torch.save(state,fichier)\n",
    "\n",
    "def load_state(fichier,model,optim):\n",
    "    epoch = 0\n",
    "    if os.path.isfile(fichier):\n",
    "        state = torch.load(fichier)\n",
    "        model.load_state_dict(state['model_state'])\n",
    "        optim.load_state_dict(state['optim_state'])\n",
    "        epoch = state['epoch']\n",
    "    return epoch\n",
    "\n",
    "def unnormalize(img, mean, std):\n",
    "    if img.dim()==2 or ((img.dim()==3) and (img.size()[0]==1)):\n",
    "        return img*std[0]+mean[0]\n",
    "    return img * img.new(std).view(3, 1, 1) + img.new(mean).view(3, 1, 1)\n",
    "\n",
    "# requiert que les modules soient enregistrés dans une liste model.hidden_layers\n",
    "def addWeightsHisto(writer,model,epoch):                \n",
    "    ix = 0\n",
    "    for module in model.hidden_layers:\n",
    "        if isinstance(module, nn.Linear):\n",
    "            writer.add_histogram(f'Linear/{ix}/weight', module.weight, epoch)\n",
    "            ix += 1\n",
    "\n",
    "def train(model, train_loader, validation_loader, loss_fn, optimizer, epochs):\n",
    "    device = torch.device(\"cuda:0\" if torch.cuda.is_available() else \"cpu\")\n",
    "    model = model.to(device)\n",
    "    loss_fn = loss_fn.to(device)\n",
    "    \n",
    "    # Clear any logs from previous runs\n",
    "    if os.path.exists(f\"/tmp/logs/deepLearning/{model.name}-train\"):\n",
    "        shutil.rmtree(f\"/tmp/logs/deepLearning/{model.name}-train\")\n",
    "        os.remove(f\"/tmp/models/{model.name}-train.pth\")\n",
    "    \n",
    "    # On créé un writer avec la date du modèle pour s'y retrouver\n",
    "    TB_PATH = f\"/tmp/logs/deepLearning\"\n",
    "    MODEL_PATH = \"/tmp/models/\"\n",
    "    os.makedirs(MODEL_PATH, exist_ok=True)\n",
    "    check_file = f\"{MODEL_PATH}/{model.name}-train.pth\"\n",
    "    \n",
    "    summary = SummaryWriter(f\"{TB_PATH}/{model.name}-train\")\n",
    "    \n",
    "    train_losses = []\n",
    "    validation_losses = []\n",
    "    \n",
    "    start_epoch = load_state(check_file, model, optimizer)\n",
    "    \n",
    "    start_time = time.time()\n",
    "    for epoch in range(start_epoch, epochs+1):\n",
    "        # Entraînement sur les données d'entraînement\n",
    "        model.train()\n",
    "        train_loss = 0.0\n",
    "        for inputs, targets in train_loader:\n",
    "            inputs, targets = inputs.to(device), targets.to(device)\n",
    "            optimizer.zero_grad()\n",
    "            outputs = model(inputs)\n",
    "            loss = loss_fn(outputs, targets)\n",
    "            loss.backward()\n",
    "            optimizer.step()\n",
    "            train_loss += loss.item()\n",
    "        \n",
    "        summary.add_scalar(\"Loss_Of_Train\", train_loss/len(train_loader), epoch)\n",
    "        train_losses.append(train_loss/len(train_loader))\n",
    "            \n",
    "        if epoch % 10 == 0: \n",
    "            # Evaluation sur les données de test\n",
    "            save_state(check_file, epoch, model, optimizer)\n",
    "            model.eval()\n",
    "            with torch.no_grad():\n",
    "                validation_loss = 0\n",
    "                correct = 0\n",
    "                total = 0\n",
    "                for inputs, labels in validation_loader:\n",
    "                    inputs, labels = inputs.to(device), labels.to(device)\n",
    "                    outputs = model(inputs)\n",
    "                    _, predicted = torch.max(outputs.data, 1)\n",
    "                    total += labels.size(0)\n",
    "                    correct += (predicted == labels).sum().item()\n",
    "                    validation_loss += loss_fn(outputs, labels).item()\n",
    "            \n",
    "            accuracy = correct / total\n",
    "            summary.add_scalar(\"Accuracy\", accuracy, epoch)\n",
    "            summary.add_scalar(\"Loss_Of_Validation\", validation_loss/len(validation_loader), epoch)\n",
    "            validation_losses.append(validation_loss/len(validation_loader))\n",
    "            \n",
    "            print(\"\\tEpoch {}, Validation Loss: {:.4f}, Validation Accuracy: {:.4f}\".format(epoch, validation_loss, accuracy))\n",
    "        else:\n",
    "            print(\"Epoch {}, Train Loss: {:.4f}\".format(epoch, train_loss/len(train_loader)))\n",
    "    end_time = time.time()\n",
    "    \n",
    "    trainTime = end_time - start_time\n",
    "    trainModelComplexity = sum(p.numel() for p in model.parameters() if p.requires_grad)\n",
    "    \n",
    "    plt.figure\n",
    "    plt.plot(train_losses)\n",
    "    plt.title('Training Loss')\n",
    "    plt.xlabel('Epoch')\n",
    "    plt.ylabel('Loss')\n",
    "    plt.show()\n",
    "    \n",
    "    plt.figure()\n",
    "    plt.plot(validation_losses)\n",
    "    plt.title('Validation Loss')\n",
    "    plt.xlabel('Epoch')\n",
    "    plt.ylabel('Loss')\n",
    "    plt.show()\n",
    "    \n",
    "    # Load the TensorBoard notebook extension\n",
    "    %load_ext tensorboard\n",
    "    %tensorboard --logdir {TB_PATH}/{model.name}-train\n",
    "    \n",
    "    return trainTime, trainModelComplexity, validation_loss, accuracy\n",
    "\n",
    "def set_dropout_rate(m, rate):\n",
    "    if type(m) == nn.Dropout:\n",
    "        m.p = rate\n",
    "\n",
    "def train_dropout(model, train_loader, validation_loader, loss_fn, optimizer, epochs, dropout_rate):\n",
    "    device = torch.device(\"cuda:0\" if torch.cuda.is_available() else \"cpu\")\n",
    "    model = model.to(device)\n",
    "    loss_fn = loss_fn.to(device)\n",
    "    \n",
    "    # Clear any logs from previous runs\n",
    "    if os.path.exists(f\"/tmp/logs/deepLearning/{model.name}-train_dropout\"):\n",
    "        shutil.rmtree(f\"/tmp/logs/deepLearning/{model.name}-train_dropout\")\n",
    "    \n",
    "    # On créé un writer avec la date du modèle pour s'y retrouver\n",
    "    TB_PATH = f\"/tmp/logs/deepLearning\"\n",
    "    MODEL_PATH = \"/tmp/models/\"\n",
    "    os.makedirs(MODEL_PATH, exist_ok=True)\n",
    "    check_file = f\"{MODEL_PATH}/{model.name}-train_dropout.pth\"\n",
    "    \n",
    "    summary = SummaryWriter(f\"{TB_PATH}/{model.name}-train_dropout\")\n",
    "    \n",
    "    train_losses = []\n",
    "    validation_losses = []\n",
    "    \n",
    "    start_epoch = load_state(check_file, model, optimizer)\n",
    "    \n",
    "    start_time = time.time()\n",
    "    for epoch in range(start_epoch, epochs+1):\n",
    "        # Entraînement sur les données d'entraînement\n",
    "        model.train()\n",
    "        model.apply(lambda x: set_dropout_rate(x, dropout_rate))\n",
    "        train_loss = 0.0\n",
    "        for inputs, targets in train_loader:\n",
    "            inputs, targets = inputs.to(device), targets.to(device)\n",
    "            optimizer.zero_grad()\n",
    "            outputs = model(inputs)\n",
    "            loss = loss_fn(outputs, targets)\n",
    "            loss.backward()\n",
    "            optimizer.step()\n",
    "            train_loss += loss.item()\n",
    "        \n",
    "        summary.add_scalar(\"Loss_Of_Train\", train_loss/len(train_loader), epoch)\n",
    "        train_losses.append(train_loss/len(train_loader))\n",
    "            \n",
    "        if epoch % 10 == 0: \n",
    "            # Evaluation sur les données de test\n",
    "            model.eval()\n",
    "            model.apply(lambda x: set_dropout_rate(x, 0))\n",
    "            with torch.no_grad():\n",
    "                validation_loss = 0\n",
    "                correct = 0\n",
    "                total = 0\n",
    "                for inputs, labels in validation_loader:\n",
    "                    inputs, labels = inputs.to(device), labels.to(device)\n",
    "                    outputs = model(inputs)\n",
    "                    _, predicted = torch.max(outputs.data, 1)\n",
    "                    total += labels.size(0)\n",
    "                    correct += (predicted == labels).sum().item()\n",
    "                    validation_loss += loss_fn(outputs, labels).item()\n",
    "            \n",
    "            accuracy = correct / total\n",
    "            summary.add_scalar(\"Accuracy\", accuracy, epoch)\n",
    "            summary.add_scalar(\"Loss_Of_Validation\", validation_loss/len(validation_loader), epoch)\n",
    "            validation_losses.append(validation_loss/len(validation_loader))\n",
    "            \n",
    "            print(\"\\tEpoch {}, Validation Loss: {:.4f}, Validation Accuracy: {:.4f}\".format(epoch, validation_loss, accuracy))\n",
    "        else:\n",
    "            print(\"Epoch {}, Train Loss: {:.4f}\".format(epoch, train_loss/len(train_loader)))\n",
    "    end_time = time.time()\n",
    "    trainTime = end_time - start_time\n",
    "    \n",
    "    trainModelComplexity = sum(p.numel() for p in model.parameters() if p.requires_grad)\n",
    "    \n",
    "    plt.figure\n",
    "    plt.plot(train_losses)\n",
    "    plt.title('Training Loss')\n",
    "    plt.xlabel('Epoch')\n",
    "    plt.ylabel('Loss')\n",
    "    plt.show()\n",
    "    \n",
    "    plt.figure()\n",
    "    plt.plot(validation_losses)\n",
    "    plt.title('Validation Loss')\n",
    "    plt.xlabel('Epoch')\n",
    "    plt.ylabel('Loss')\n",
    "    plt.show()\n",
    "    \n",
    "    # Load the TensorBoard notebook extension\n",
    "    %load_ext tensorboard\n",
    "    %tensorboard --logdir {TB_PATH}/{model.name}-train_dropout\n",
    "    \n",
    "    return trainTime, trainModelComplexity, validation_loss, accuracy\n",
    "\n",
    "def train_batchnorm(model, train_loader, validation_loader, loss_fn, optimizer, epochs):\n",
    "    device = torch.device(\"cuda:0\" if torch.cuda.is_available() else \"cpu\")\n",
    "    model = model.to(device)\n",
    "    loss_fn = loss_fn.to(device)\n",
    "    \n",
    "    # Clear any logs from previous runs\n",
    "    if os.path.exists(f\"/tmp/logs/deepLearning/{model.name}-train_batchnorm\"):\n",
    "        shutil.rmtree(f\"/tmp/logs/deepLearning/{model.name}-train_batchnorm\")\n",
    "\n",
    "    # On créé un writer avec la date du modèle pour s'y retrouver\n",
    "    TB_PATH = f\"/tmp/logs/deepLearning\"\n",
    "    MODEL_PATH = \"/tmp/models/\"\n",
    "    os.makedirs(MODEL_PATH, exist_ok=True)\n",
    "    check_file = f\"{MODEL_PATH}/{model.name}-train_batchnorm.pth\"\n",
    "\n",
    "    summary = SummaryWriter(f\"{TB_PATH}/{model.name}-train_batchnorm\")\n",
    "\n",
    "    train_losses = []\n",
    "    validation_losses = []\n",
    "\n",
    "    start_epoch = load_state(check_file, model, optimizer)\n",
    "    \n",
    "    start_time = time.time()\n",
    "    for epoch in range(start_epoch, epochs+1):\n",
    "        # Entraînement sur les données d'entraînement\n",
    "        model.train()\n",
    "        train_loss = 0.0\n",
    "        for inputs, targets in train_loader:\n",
    "            inputs, targets = inputs.to(device), targets.to(device)\n",
    "            optimizer.zero_grad()\n",
    "            outputs = model(inputs)\n",
    "            loss = loss_fn(outputs, targets)\n",
    "            loss.backward()\n",
    "            optimizer.step()\n",
    "            train_loss += loss.item()\n",
    "\n",
    "        summary.add_scalar(\"Loss_Of_Train\", train_loss/len(train_loader), epoch)\n",
    "        train_losses.append(train_loss/len(train_loader))\n",
    "\n",
    "        if epoch % 10 == 0: \n",
    "            # Evaluation sur les données de test\n",
    "            model.eval()\n",
    "            with torch.no_grad():\n",
    "                validation_loss = 0\n",
    "                correct = 0\n",
    "                total = 0\n",
    "                for inputs, labels in validation_loader:\n",
    "                    inputs, labels = inputs.to(device), labels.to(device)\n",
    "                    outputs = model(inputs)\n",
    "                    _, predicted = torch.max(outputs.data, 1)\n",
    "                    total += labels.size(0)\n",
    "                    correct += (predicted == labels).sum().item()\n",
    "                    validation_loss += loss_fn(outputs, labels).item()\n",
    "            \n",
    "            accuracy = correct / total\n",
    "            summary.add_scalar(\"Accuracy\", accuracy, epoch)\n",
    "            summary.add_scalar(\"Loss_Of_Validation\", validation_loss/len(validation_loader), epoch)\n",
    "            validation_losses.append(validation_loss/len(validation_loader))\n",
    "\n",
    "            print(\"\\tEpoch {}, Validation Loss: {:.4f}, Validation Accuracy: {:.4f}\".format(epoch, validation_loss, accuracy))\n",
    "        else:\n",
    "            print(\"Epoch {}, Train Loss: {:.4f}\".format(epoch, train_loss/len(train_loader)))\n",
    "    end_time = time.time()\n",
    "    trainTime = end_time - start_time\n",
    "    \n",
    "    trainModelComplexity = sum(p.numel() for p in model.parameters() if p.requires_grad)\n",
    "    \n",
    "    plt.figure\n",
    "    plt.plot(train_losses)\n",
    "    plt.title('Training Loss')\n",
    "    plt.xlabel('Epoch')\n",
    "    plt.ylabel('Loss')\n",
    "    plt.show()\n",
    "    \n",
    "    plt.figure()\n",
    "    plt.plot(validation_losses)\n",
    "    plt.title('Validation Loss')\n",
    "    plt.xlabel('Epoch')\n",
    "    plt.ylabel('Loss')\n",
    "    plt.show()\n",
    "    \n",
    "    # Load the TensorBoard notebook extension\n",
    "    %load_ext tensorboard\n",
    "    %tensorboard --logdir {TB_PATH}/{model.name}-train_batchnorm\n",
    "    \n",
    "    return trainTime, trainModelComplexity, validation_loss, accuracy"
   ]
  },
  {
   "cell_type": "markdown",
   "id": "aaf5c44f-3818-4c85-8c88-ac07df5d96a6",
   "metadata": {},
   "source": [
    "# Déclaration des class"
   ]
  },
  {
   "cell_type": "code",
   "execution_count": 4,
   "id": "979f117d-587b-4d3f-afea-d25449911d97",
   "metadata": {},
   "outputs": [],
   "source": [
    "class LinearMultiClass(nn.Module):\n",
    "    def __init__(self, in_size, out_size, hidden_layers, final_activation=None, activation=nn.Tanh()):\n",
    "        super(LinearMultiClass, self).__init__()\n",
    "        self.name = \"Linear_Multi_Class\"\n",
    "        self.in_size = in_size\n",
    "        self.hidden_layers = nn.ModuleList()\n",
    "        self.output_layer = nn.Linear(hidden_layers[-1], out_size)\n",
    "        self.final_activation = final_activation\n",
    "        self.activation = activation\n",
    "        \n",
    "        for i, h in enumerate(hidden_layers):\n",
    "            self.hidden_layers.append(nn.Linear(in_size if i == 0 else hidden_layers[i-1], h))\n",
    "\n",
    "    def forward(self, x):\n",
    "        x = x.view(-1, self.in_size)\n",
    "        for i, layer in enumerate(self.hidden_layers):\n",
    "            x = layer(x)\n",
    "            x = self.activation(x)\n",
    "\n",
    "        x = self.output_layer(x)\n",
    "        if self.final_activation is not None:\n",
    "            x = self.final_activation(x)\n",
    "        return x\n",
    "\n",
    "class LinearMultiClassWithDropout(nn.Module):\n",
    "    def __init__(self, in_size, out_size, hidden_layers, dropout_rate=0.5, final_activation=None, activation=nn.Tanh()):\n",
    "        super(LinearMultiClassWithDropout, self).__init__()\n",
    "        self.name = \"Linear_Multi_Class_With_Dropout\"\n",
    "        self.in_size = in_size\n",
    "        self.hidden_layers = nn.ModuleList()\n",
    "        self.dropout_layers = nn.ModuleList()\n",
    "        self.dropout_rate = dropout_rate\n",
    "        self.output_layer = nn.Linear(hidden_layers[-1], out_size)\n",
    "        self.final_activation = final_activation\n",
    "        self.activation = activation\n",
    "        \n",
    "        for i, h in enumerate(hidden_layers):\n",
    "            self.hidden_layers.append(nn.Linear(in_size if i == 0 else hidden_layers[i-1], h))\n",
    "            self.dropout_layers.append(nn.Dropout(p=self.dropout_rate))\n",
    "\n",
    "    def forward(self, x):\n",
    "        x = x.view(-1, self.in_size)\n",
    "        for i, layer in enumerate(self.hidden_layers):\n",
    "            x = layer(x)\n",
    "            x = self.activation(x)\n",
    "            x = self.dropout_layers[i](x)\n",
    "\n",
    "        x = self.output_layer(x)\n",
    "        if self.final_activation is not None:\n",
    "            x = self.final_activation(x)\n",
    "        return x\n",
    "\n",
    "class LinearMultiClassWithBatchNorm(nn.Module):\n",
    "    def __init__(self, in_size, out_size, hidden_layers, final_activation=None, activation=nn.Tanh()):\n",
    "        super(LinearMultiClassWithBatchNorm, self).__init__()\n",
    "        self.name = \"Linear_Multi_Class_With_BatchNorm\"\n",
    "        self.in_size = in_size\n",
    "        self.hidden_layers = nn.ModuleList()\n",
    "        self.batch_norm_layers = nn.ModuleList()\n",
    "        self.output_layer = nn.Linear(hidden_layers[-1], out_size)\n",
    "        self.final_activation = final_activation\n",
    "        self.activation = activation\n",
    "        \n",
    "        for i, h in enumerate(hidden_layers):\n",
    "            self.hidden_layers.append(nn.Linear(in_size if i == 0 else hidden_layers[i-1], h))\n",
    "            self.batch_norm_layers.append(nn.BatchNorm1d(h))\n",
    "\n",
    "    def forward(self, x):\n",
    "        x = x.view(-1, self.in_size)\n",
    "        for i, layer in enumerate(self.hidden_layers):\n",
    "            x = layer(x)\n",
    "            x = self.batch_norm_layers[i](x)\n",
    "            x = self.activation(x)\n",
    "\n",
    "        x = self.output_layer(x)\n",
    "        if self.final_activation is not None:\n",
    "            x = self.final_activation(x)\n",
    "        return x\n"
   ]
  },
  {
   "cell_type": "markdown",
   "id": "2d130b0a-5a3c-47f9-ad4b-b2f61ded27be",
   "metadata": {},
   "source": [
    "# Déclaration des données du projet"
   ]
  },
  {
   "cell_type": "code",
   "execution_count": 5,
   "id": "3a945583-a2cd-4cb6-b748-41f7bf49a44e",
   "metadata": {},
   "outputs": [],
   "source": [
    "#Transformations à appliquer sur le dataset (transformation des images en tenseurs et normalization pour obtenir des valeurs entre -1 et 1)\n",
    "mean = [0.5]\n",
    "std = [0.5]\n",
    "transform = transforms.Compose([\n",
    "    transforms.ToTensor(),\n",
    "    transforms.Normalize(mean, std)\n",
    "])\n",
    "\n",
    "# Téléchargement des données (via le dataset specifique MNIST de pytorch)\n",
    "mnist_train = MNIST('./data', train=True, transform=transform, download=True)\n",
    "mnist_test = MNIST('./data', train=False, transform=transform, download=True)\n",
    "\n",
    "batch_size = 64\n",
    "train_loader = DataLoader(mnist_train, batch_size=batch_size, shuffle=True)\n",
    "validation_loader = DataLoader(mnist_test, batch_size=batch_size)\n",
    "\n",
    "TB_PATH = f\"/tmp/logs/deepLearning\"\n",
    "epoch = 100\n",
    "\n",
    "in_size = 784\n",
    "out_size = 10\n",
    "hidden_layers = [100, 100, 100]"
   ]
  },
  {
   "cell_type": "markdown",
   "id": "cc3bb940-647b-4091-b68f-fd75bae6fd40",
   "metadata": {},
   "source": [
    "# Récuperation d'une image de notre batch de données"
   ]
  },
  {
   "cell_type": "code",
   "execution_count": 24,
   "id": "844b8512-a9a2-408e-aca2-ae67796c9fba",
   "metadata": {},
   "outputs": [
    {
     "data": {
      "text/plain": [
       "<matplotlib.image.AxesImage at 0x7f65d7871220>"
      ]
     },
     "execution_count": 24,
     "metadata": {},
     "output_type": "execute_result"
    },
    {
     "data": {
      "image/png": "[encoded data removed]",
      "text/plain": [
       "<Figure size 576x576 with 1 Axes>"
      ]
     },
     "metadata": {
      "needs_background": "light"
     },
     "output_type": "display_data"
    }
   ],
   "source": [
    "imgs,labs = next(iter(train_loader))\n",
    "\n",
    "# dimension of images (flattened)reload_ext tensorboard\n",
    "HEIGHT,WIDTH = imgs.shape[2], imgs.shape[3] # taille de l'image\n",
    "INPUT_DIM = HEIGHT * WIDTH\n",
    "\n",
    "#Visualisation de la première image\n",
    "img = unnormalize(imgs[0], mean, std) # pour retrouver l'image d'origine (avant normalisation)\n",
    "fig = plt.figure(figsize=(8, 8))\n",
    "\n",
    "plt.imshow(img.squeeze(),cmap='Greys_r')"
   ]
  },
  {
   "cell_type": "markdown",
   "id": "6ebbe3da-66a4-45c8-8b14-3bdcc19d9be7",
   "metadata": {},
   "source": [
    "# Construction et Entrainement des modèles"
   ]
  },
  {
   "cell_type": "markdown",
   "id": "5f408405-1d30-415b-8ff1-d9faa8047265",
   "metadata": {
    "tags": []
   },
   "source": [
    "## Modèle LinearMultiClass"
   ]
  },
  {
   "cell_type": "code",
   "execution_count": 25,
   "id": "a29ba835-b4cf-4324-bdf2-32bb19d44335",
   "metadata": {},
   "outputs": [
    {
     "name": "stdout",
     "output_type": "stream",
     "text": [
      "\tEpoch 0, Validation Loss: 188.2789\n",
      "Epoch 1, Train Loss: 0.9557\n",
      "Epoch 2, Train Loss: 0.6639\n",
      "Epoch 3, Train Loss: 0.5240\n",
      "Epoch 4, Train Loss: 0.4463\n",
      "Epoch 5, Train Loss: 0.3982\n",
      "Epoch 6, Train Loss: 0.3659\n",
      "Epoch 7, Train Loss: 0.3423\n",
      "Epoch 8, Train Loss: 0.3246\n",
      "Epoch 9, Train Loss: 0.3103\n",
      "\tEpoch 10, Validation Loss: 44.7063\n",
      "Epoch 11, Train Loss: 0.2877\n",
      "Epoch 12, Train Loss: 0.2788\n",
      "Epoch 13, Train Loss: 0.2704\n",
      "Epoch 14, Train Loss: 0.2630\n",
      "Epoch 15, Train Loss: 0.2563\n",
      "Epoch 16, Train Loss: 0.2498\n",
      "Epoch 17, Train Loss: 0.2438\n",
      "Epoch 18, Train Loss: 0.2378\n",
      "Epoch 19, Train Loss: 0.2323\n",
      "\tEpoch 20, Validation Loss: 34.9388\n",
      "Epoch 21, Train Loss: 0.2216\n",
      "Epoch 22, Train Loss: 0.2166\n",
      "Epoch 23, Train Loss: 0.2121\n",
      "Epoch 24, Train Loss: 0.2074\n",
      "Epoch 25, Train Loss: 0.2028\n",
      "Epoch 26, Train Loss: 0.1985\n",
      "Epoch 27, Train Loss: 0.1942\n",
      "Epoch 28, Train Loss: 0.1901\n",
      "Epoch 29, Train Loss: 0.1861\n",
      "\tEpoch 30, Validation Loss: 28.6048\n",
      "Epoch 31, Train Loss: 0.1784\n",
      "Epoch 32, Train Loss: 0.1748\n",
      "Epoch 33, Train Loss: 0.1712\n",
      "Epoch 34, Train Loss: 0.1675\n",
      "Epoch 35, Train Loss: 0.1642\n",
      "Epoch 36, Train Loss: 0.1607\n",
      "Epoch 37, Train Loss: 0.1575\n",
      "Epoch 38, Train Loss: 0.1545\n",
      "Epoch 39, Train Loss: 0.1514\n",
      "\tEpoch 40, Validation Loss: 23.7653\n",
      "Epoch 41, Train Loss: 0.1455\n",
      "Epoch 42, Train Loss: 0.1429\n",
      "Epoch 43, Train Loss: 0.1401\n",
      "Epoch 44, Train Loss: 0.1373\n",
      "Epoch 45, Train Loss: 0.1347\n",
      "Epoch 46, Train Loss: 0.1323\n",
      "Epoch 47, Train Loss: 0.1296\n",
      "Epoch 48, Train Loss: 0.1273\n",
      "Epoch 49, Train Loss: 0.1249\n",
      "\tEpoch 50, Validation Loss: 20.2956\n",
      "Epoch 51, Train Loss: 0.1203\n",
      "Epoch 52, Train Loss: 0.1181\n",
      "Epoch 53, Train Loss: 0.1159\n",
      "Epoch 54, Train Loss: 0.1139\n",
      "Epoch 55, Train Loss: 0.1119\n",
      "Epoch 56, Train Loss: 0.1100\n",
      "Epoch 57, Train Loss: 0.1080\n",
      "Epoch 58, Train Loss: 0.1060\n",
      "Epoch 59, Train Loss: 0.1042\n",
      "\tEpoch 60, Validation Loss: 17.5458\n",
      "Epoch 61, Train Loss: 0.1005\n",
      "Epoch 62, Train Loss: 0.0988\n",
      "Epoch 63, Train Loss: 0.0971\n",
      "Epoch 64, Train Loss: 0.0955\n",
      "Epoch 65, Train Loss: 0.0938\n",
      "Epoch 66, Train Loss: 0.0921\n",
      "Epoch 67, Train Loss: 0.0908\n",
      "Epoch 68, Train Loss: 0.0891\n",
      "Epoch 69, Train Loss: 0.0878\n",
      "\tEpoch 70, Validation Loss: 15.5915\n",
      "Epoch 71, Train Loss: 0.0848\n",
      "Epoch 72, Train Loss: 0.0833\n",
      "Epoch 73, Train Loss: 0.0818\n",
      "Epoch 74, Train Loss: 0.0807\n",
      "Epoch 75, Train Loss: 0.0794\n",
      "Epoch 76, Train Loss: 0.0781\n",
      "Epoch 77, Train Loss: 0.0767\n",
      "Epoch 78, Train Loss: 0.0754\n",
      "Epoch 79, Train Loss: 0.0742\n",
      "\tEpoch 80, Validation Loss: 14.2000\n",
      "Epoch 81, Train Loss: 0.0718\n",
      "Epoch 82, Train Loss: 0.0706\n",
      "Epoch 83, Train Loss: 0.0695\n",
      "Epoch 84, Train Loss: 0.0683\n",
      "Epoch 85, Train Loss: 0.0672\n",
      "Epoch 86, Train Loss: 0.0662\n",
      "Epoch 87, Train Loss: 0.0651\n",
      "Epoch 88, Train Loss: 0.0640\n",
      "Epoch 89, Train Loss: 0.0631\n",
      "\tEpoch 90, Validation Loss: 13.0636\n",
      "Epoch 91, Train Loss: 0.0610\n",
      "Epoch 92, Train Loss: 0.0600\n",
      "Epoch 93, Train Loss: 0.0593\n",
      "Epoch 94, Train Loss: 0.0583\n",
      "Epoch 95, Train Loss: 0.0574\n",
      "Epoch 96, Train Loss: 0.0563\n",
      "Epoch 97, Train Loss: 0.0554\n",
      "Epoch 98, Train Loss: 0.0544\n",
      "Epoch 99, Train Loss: 0.0538\n",
      "\tEpoch 100, Validation Loss: 12.2517\n"
     ]
    },
    {
     "data": {
      "image/png": "[encoded data removed]",
      "text/plain": [
       "<Figure size 432x288 with 1 Axes>"
      ]
     },
     "metadata": {
      "needs_background": "light"
     },
     "output_type": "display_data"
    },
    {
     "data": {
      "image/png": "[encoded data removed]",
      "text/plain": [
       "<Figure size 432x288 with 1 Axes>"
      ]
     },
     "metadata": {
      "needs_background": "light"
     },
     "output_type": "display_data"
    },
    {
     "name": "stdout",
     "output_type": "stream",
     "text": [
      "The tensorboard extension is already loaded. To reload it, use:\n",
      "  %reload_ext tensorboard\n"
     ]
    },
    {
     "data": {
      "text/plain": [
       "Reusing TensorBoard on port 6008 (pid 3895), started 0:23:59 ago. (Use '!kill 3895' to kill it.)"
      ]
     },
     "metadata": {},
     "output_type": "display_data"
    },
    {
     "data": {
      "text/html": [
       "\n",
       "      <iframe id=\"tensorboard-frame-7e4f96cdd48386fb\" width=\"100%\" height=\"800\" frameborder=\"0\">\n",
       "      </iframe>\n",
       "      <script>\n",
       "        (function() {\n",
       "          const frame = document.getElementById(\"tensorboard-frame-7e4f96cdd48386fb\");\n",
       "          const url = new URL(\"/\", window.location);\n",
       "          const port = 6008;\n",
       "          if (port) {\n",
       "            url.port = port;\n",
       "          }\n",
       "          frame.src = url;\n",
       "        })();\n",
       "      </script>\n",
       "    "
      ],
      "text/plain": [
       "<IPython.core.display.HTML object>"
      ]
     },
     "metadata": {},
     "output_type": "display_data"
    }
   ],
   "source": [
    "# Définir le modèle, la fonction de coût, et l'optimiseur\n",
    "model = LinearMultiClass(in_size=784, out_size=10, hidden_layers=[256, 128], activation=nn.Tanh())\n",
    "loss_fn = nn.CrossEntropyLoss()\n",
    "optimizer = torch.optim.Adam(params=model.parameters(),lr=1e-5)\n",
    "\n",
    "# Entraîner le modèle\n",
    "modelLinearMultiClass_ExecutionTime, modelLinearMultiClass_Complexity, modelLinearMultiClass_validationLoss, modelLinearMultiClass_accuracy = train(model, train_loader, validation_loader, loss_fn, optimizer, epochs=100)"
   ]
  },
  {
   "cell_type": "markdown",
   "id": "d24620d1-00f9-4200-83fe-918c527c7278",
   "metadata": {},
   "source": [
    "### Construction d'un histogramme avec les données du modèle"
   ]
  },
  {
   "cell_type": "code",
   "execution_count": 37,
   "id": "fde3caa1-29f6-47eb-b1e9-acb46d74b173",
   "metadata": {
    "tags": []
   },
   "outputs": [
    {
     "name": "stdout",
     "output_type": "stream",
     "text": [
      "The tensorboard extension is already loaded. To reload it, use:\n",
      "  %reload_ext tensorboard\n"
     ]
    },
    {
     "data": {
      "text/html": [
       "\n",
       "      <iframe id=\"tensorboard-frame-9a698008a0dc99f0\" width=\"100%\" height=\"800\" frameborder=\"0\">\n",
       "      </iframe>\n",
       "      <script>\n",
       "        (function() {\n",
       "          const frame = document.getElementById(\"tensorboard-frame-9a698008a0dc99f0\");\n",
       "          const url = new URL(\"/\", window.location);\n",
       "          const port = 6012;\n",
       "          if (port) {\n",
       "            url.port = port;\n",
       "          }\n",
       "          frame.src = url;\n",
       "        })();\n",
       "      </script>\n",
       "    "
      ],
      "text/plain": [
       "<IPython.core.display.HTML object>"
      ]
     },
     "metadata": {},
     "output_type": "display_data"
    }
   ],
   "source": [
    "summary = SummaryWriter(f\"{TB_PATH}/{model.name}-historigramme\")\n",
    "addWeightsHisto(summary, model, epoch)\n",
    "\n",
    "# Load the TensorBoard notebook extension\n",
    "%load_ext tensorboard\n",
    "%tensorboard --logdir {TB_PATH}/{model.name}-historigramme"
   ]
  },
  {
   "cell_type": "markdown",
   "id": "626689fa-2e46-4c7f-aee2-00131df01c51",
   "metadata": {
    "tags": []
   },
   "source": [
    "### Pénalisation des couches"
   ]
  },
  {
   "cell_type": "markdown",
   "id": "cccec895-965b-4be4-b31e-ef79652a04d1",
   "metadata": {
    "tags": []
   },
   "source": [
    "#### Pour la norme L2 de 10^-5"
   ]
  },
  {
   "cell_type": "code",
   "execution_count": 30,
   "id": "49d18464-ccb6-4bef-b303-9e75a3a3603e",
   "metadata": {},
   "outputs": [
    {
     "name": "stdout",
     "output_type": "stream",
     "text": [
      "_________________________________ LA NORME L2 DE 10^−5 _________________________________\n",
      "\tEpoch 0, Validation Loss: 340.2699\n",
      "Epoch 1, Train Loss: 2.0643\n",
      "Epoch 2, Train Loss: 1.7589\n",
      "Epoch 3, Train Loss: 1.4128\n",
      "Epoch 4, Train Loss: 1.1352\n",
      "Epoch 5, Train Loss: 0.9306\n",
      "Epoch 6, Train Loss: 0.7860\n",
      "Epoch 7, Train Loss: 0.6864\n",
      "Epoch 8, Train Loss: 0.6160\n",
      "Epoch 9, Train Loss: 0.5638\n",
      "\tEpoch 10, Validation Loss: 77.1629\n",
      "Epoch 11, Train Loss: 0.4917\n",
      "Epoch 12, Train Loss: 0.4658\n",
      "Epoch 13, Train Loss: 0.4440\n",
      "Epoch 14, Train Loss: 0.4256\n",
      "Epoch 15, Train Loss: 0.4097\n",
      "Epoch 16, Train Loss: 0.3960\n",
      "Epoch 17, Train Loss: 0.3838\n",
      "Epoch 18, Train Loss: 0.3728\n",
      "Epoch 19, Train Loss: 0.3632\n",
      "\tEpoch 20, Validation Loss: 53.3425\n",
      "Epoch 21, Train Loss: 0.3461\n",
      "Epoch 22, Train Loss: 0.3385\n",
      "Epoch 23, Train Loss: 0.3318\n",
      "Epoch 24, Train Loss: 0.3252\n",
      "Epoch 25, Train Loss: 0.3191\n",
      "Epoch 26, Train Loss: 0.3131\n",
      "Epoch 27, Train Loss: 0.3076\n",
      "Epoch 28, Train Loss: 0.3023\n",
      "Epoch 29, Train Loss: 0.2973\n",
      "\tEpoch 30, Validation Loss: 44.7615\n"
     ]
    },
    {
     "data": {
      "image/png": "[encoded data removed]",
      "text/plain": [
       "<Figure size 432x288 with 1 Axes>"
      ]
     },
     "metadata": {
      "needs_background": "light"
     },
     "output_type": "display_data"
    },
    {
     "data": {
      "image/png": "[encoded data removed]",
      "text/plain": [
       "<Figure size 432x288 with 1 Axes>"
      ]
     },
     "metadata": {
      "needs_background": "light"
     },
     "output_type": "display_data"
    },
    {
     "name": "stdout",
     "output_type": "stream",
     "text": [
      "The tensorboard extension is already loaded. To reload it, use:\n",
      "  %reload_ext tensorboard\n"
     ]
    },
    {
     "data": {
      "text/plain": [
       "Reusing TensorBoard on port 6008 (pid 3895), started 0:49:07 ago. (Use '!kill 3895' to kill it.)"
      ]
     },
     "metadata": {},
     "output_type": "display_data"
    },
    {
     "data": {
      "text/html": [
       "\n",
       "      <iframe id=\"tensorboard-frame-97814733647bd0f3\" width=\"100%\" height=\"800\" frameborder=\"0\">\n",
       "      </iframe>\n",
       "      <script>\n",
       "        (function() {\n",
       "          const frame = document.getElementById(\"tensorboard-frame-97814733647bd0f3\");\n",
       "          const url = new URL(\"/\", window.location);\n",
       "          const port = 6008;\n",
       "          if (port) {\n",
       "            url.port = port;\n",
       "          }\n",
       "          frame.src = url;\n",
       "        })();\n",
       "      </script>\n",
       "    "
      ],
      "text/plain": [
       "<IPython.core.display.HTML object>"
      ]
     },
     "metadata": {},
     "output_type": "display_data"
    }
   ],
   "source": [
    "print(\"__________________LA NORME L2 DE 10^−5 __________________\")\n",
    "weight_decay = 10e-5\n",
    "model = LinearMultiClass(in_size, out_size, hidden_layers, activation=nn.Tanh())\n",
    "criterion = nn.CrossEntropyLoss()\n",
    "optimizer = torch.optim.SGD(model.parameters(), lr=0.001, weight_decay=weight_decay)\n",
    "train(model, train_loader, validation_loader, loss_fn, optimizer, epochs=30)"
   ]
  },
  {
   "cell_type": "markdown",
   "id": "58584734-4919-4f69-95b8-5a8d0a2bdc65",
   "metadata": {},
   "source": [
    "#### Pour la norme L2 de 10^-4"
   ]
  },
  {
   "cell_type": "code",
   "execution_count": 31,
   "id": "a1a489ed-3c00-4d75-988f-52e4eaed75c8",
   "metadata": {},
   "outputs": [
    {
     "name": "stdout",
     "output_type": "stream",
     "text": [
      "\n",
      "_________________________________ LA NORME L2 DE 10^-4 _________________________________\n",
      "\tEpoch 0, Validation Loss: 337.5269\n",
      "Epoch 1, Train Loss: 2.0284\n",
      "Epoch 2, Train Loss: 1.6946\n",
      "Epoch 3, Train Loss: 1.3632\n",
      "Epoch 4, Train Loss: 1.1151\n",
      "Epoch 5, Train Loss: 0.9348\n",
      "Epoch 6, Train Loss: 0.8007\n",
      "Epoch 7, Train Loss: 0.7003\n",
      "Epoch 8, Train Loss: 0.6249\n",
      "Epoch 9, Train Loss: 0.5680\n",
      "\tEpoch 10, Validation Loss: 77.3624\n",
      "Epoch 11, Train Loss: 0.4909\n",
      "Epoch 12, Train Loss: 0.4638\n",
      "Epoch 13, Train Loss: 0.4417\n",
      "Epoch 14, Train Loss: 0.4235\n",
      "Epoch 15, Train Loss: 0.4075\n",
      "Epoch 16, Train Loss: 0.3942\n",
      "Epoch 17, Train Loss: 0.3823\n",
      "Epoch 18, Train Loss: 0.3719\n",
      "Epoch 19, Train Loss: 0.3627\n",
      "\tEpoch 20, Validation Loss: 53.3755\n",
      "Epoch 21, Train Loss: 0.3466\n",
      "Epoch 22, Train Loss: 0.3396\n",
      "Epoch 23, Train Loss: 0.3331\n",
      "Epoch 24, Train Loss: 0.3271\n",
      "Epoch 25, Train Loss: 0.3214\n",
      "Epoch 26, Train Loss: 0.3160\n",
      "Epoch 27, Train Loss: 0.3111\n",
      "Epoch 28, Train Loss: 0.3064\n",
      "Epoch 29, Train Loss: 0.3017\n",
      "\tEpoch 30, Validation Loss: 45.3487\n"
     ]
    },
    {
     "data": {
      "image/png": "[encoded data removed]",
      "text/plain": [
       "<Figure size 432x288 with 1 Axes>"
      ]
     },
     "metadata": {
      "needs_background": "light"
     },
     "output_type": "display_data"
    },
    {
     "data": {
      "image/png": "[encoded data removed]",
      "text/plain": [
       "<Figure size 432x288 with 1 Axes>"
      ]
     },
     "metadata": {
      "needs_background": "light"
     },
     "output_type": "display_data"
    },
    {
     "name": "stdout",
     "output_type": "stream",
     "text": [
      "The tensorboard extension is already loaded. To reload it, use:\n",
      "  %reload_ext tensorboard\n"
     ]
    },
    {
     "data": {
      "text/plain": [
       "Reusing TensorBoard on port 6008 (pid 3895), started 0:55:08 ago. (Use '!kill 3895' to kill it.)"
      ]
     },
     "metadata": {},
     "output_type": "display_data"
    },
    {
     "data": {
      "text/html": [
       "\n",
       "      <iframe id=\"tensorboard-frame-bfe0ae7915dfb755\" width=\"100%\" height=\"800\" frameborder=\"0\">\n",
       "      </iframe>\n",
       "      <script>\n",
       "        (function() {\n",
       "          const frame = document.getElementById(\"tensorboard-frame-bfe0ae7915dfb755\");\n",
       "          const url = new URL(\"/\", window.location);\n",
       "          const port = 6008;\n",
       "          if (port) {\n",
       "            url.port = port;\n",
       "          }\n",
       "          frame.src = url;\n",
       "        })();\n",
       "      </script>\n",
       "    "
      ],
      "text/plain": [
       "<IPython.core.display.HTML object>"
      ]
     },
     "metadata": {},
     "output_type": "display_data"
    }
   ],
   "source": [
    "print(\"\\n__________________LA NORME L2 DE 10^-4 __________________\")\n",
    "weight_decay = 10e-4\n",
    "model = LinearMultiClass(in_size, out_size, hidden_layers, activation=nn.Tanh())\n",
    "criterion = nn.CrossEntropyLoss()\n",
    "optimizer = torch.optim.SGD(model.parameters(), lr=0.001, weight_decay=weight_decay)\n",
    "train(model, train_loader, validation_loader, loss_fn, optimizer, epochs=30)"
   ]
  },
  {
   "cell_type": "markdown",
   "id": "78763c7c-0419-426a-bb74-cafa71a85da5",
   "metadata": {},
   "source": [
    "#### Pour la norme L2 de 10^-3"
   ]
  },
  {
   "cell_type": "code",
   "execution_count": 32,
   "id": "1185a6b1-5396-4a3e-8d26-a61136f3f86e",
   "metadata": {},
   "outputs": [
    {
     "name": "stdout",
     "output_type": "stream",
     "text": [
      "\n",
      "_________________________________ LA NORME L2 DE 10^-3 _________________________________\n",
      "\tEpoch 0, Validation Loss: 331.7799\n",
      "Epoch 1, Train Loss: 1.9832\n",
      "Epoch 2, Train Loss: 1.6486\n",
      "Epoch 3, Train Loss: 1.3334\n",
      "Epoch 4, Train Loss: 1.1039\n",
      "Epoch 5, Train Loss: 0.9445\n",
      "Epoch 6, Train Loss: 0.8290\n",
      "Epoch 7, Train Loss: 0.7414\n",
      "Epoch 8, Train Loss: 0.6738\n",
      "Epoch 9, Train Loss: 0.6214\n",
      "\tEpoch 10, Validation Loss: 86.0859\n",
      "Epoch 11, Train Loss: 0.5478\n",
      "Epoch 12, Train Loss: 0.5216\n",
      "Epoch 13, Train Loss: 0.4996\n",
      "Epoch 14, Train Loss: 0.4814\n",
      "Epoch 15, Train Loss: 0.4657\n",
      "Epoch 16, Train Loss: 0.4519\n",
      "Epoch 17, Train Loss: 0.4400\n",
      "Epoch 18, Train Loss: 0.4290\n",
      "Epoch 19, Train Loss: 0.4194\n",
      "\tEpoch 20, Validation Loss: 61.9804\n",
      "Epoch 21, Train Loss: 0.4028\n",
      "Epoch 22, Train Loss: 0.3954\n",
      "Epoch 23, Train Loss: 0.3887\n",
      "Epoch 24, Train Loss: 0.3823\n",
      "Epoch 25, Train Loss: 0.3766\n",
      "Epoch 26, Train Loss: 0.3714\n",
      "Epoch 27, Train Loss: 0.3662\n",
      "Epoch 28, Train Loss: 0.3613\n",
      "Epoch 29, Train Loss: 0.3570\n",
      "\tEpoch 30, Validation Loss: 53.5851\n"
     ]
    },
    {
     "data": {
      "image/png": "[encoded data removed]",
      "text/plain": [
       "<Figure size 432x288 with 1 Axes>"
      ]
     },
     "metadata": {
      "needs_background": "light"
     },
     "output_type": "display_data"
    },
    {
     "data": {
      "image/png": "[encoded data removed]",
      "text/plain": [
       "<Figure size 432x288 with 1 Axes>"
      ]
     },
     "metadata": {
      "needs_background": "light"
     },
     "output_type": "display_data"
    },
    {
     "name": "stdout",
     "output_type": "stream",
     "text": [
      "The tensorboard extension is already loaded. To reload it, use:\n",
      "  %reload_ext tensorboard\n"
     ]
    },
    {
     "data": {
      "text/plain": [
       "Reusing TensorBoard on port 6008 (pid 3895), started 1:00:32 ago. (Use '!kill 3895' to kill it.)"
      ]
     },
     "metadata": {},
     "output_type": "display_data"
    },
    {
     "data": {
      "text/html": [
       "\n",
       "      <iframe id=\"tensorboard-frame-92a9f7aafc9a70ad\" width=\"100%\" height=\"800\" frameborder=\"0\">\n",
       "      </iframe>\n",
       "      <script>\n",
       "        (function() {\n",
       "          const frame = document.getElementById(\"tensorboard-frame-92a9f7aafc9a70ad\");\n",
       "          const url = new URL(\"/\", window.location);\n",
       "          const port = 6008;\n",
       "          if (port) {\n",
       "            url.port = port;\n",
       "          }\n",
       "          frame.src = url;\n",
       "        })();\n",
       "      </script>\n",
       "    "
      ],
      "text/plain": [
       "<IPython.core.display.HTML object>"
      ]
     },
     "metadata": {},
     "output_type": "display_data"
    }
   ],
   "source": [
    "print(\"\\n__________________LA NORME L2 DE 10^-3 __________________\")\n",
    "weight_decay = 10e-3\n",
    "model = LinearMultiClass(in_size, out_size, hidden_layers, activation=nn.Tanh())\n",
    "criterion = nn.CrossEntropyLoss()\n",
    "optimizer = torch.optim.SGD(model.parameters(), lr=0.001, weight_decay=weight_decay)\n",
    "train(model, train_loader, validation_loader, loss_fn, optimizer, epochs=30)"
   ]
  },
  {
   "cell_type": "markdown",
   "id": "4cb2a463-da10-4896-a861-ce94997a68d0",
   "metadata": {},
   "source": [
    "#### Pour la norme L2 de 0"
   ]
  },
  {
   "cell_type": "code",
   "execution_count": 33,
   "id": "9e549dd4-7f80-4d1a-ba49-e8b9f70fd3d1",
   "metadata": {},
   "outputs": [
    {
     "name": "stdout",
     "output_type": "stream",
     "text": [
      "\n",
      "_________________________________ LA NORME L2 DE 0 _________________________________\n",
      "\tEpoch 0, Validation Loss: 335.5186\n",
      "Epoch 1, Train Loss: 2.0151\n",
      "Epoch 2, Train Loss: 1.6928\n",
      "Epoch 3, Train Loss: 1.3557\n",
      "Epoch 4, Train Loss: 1.0899\n",
      "Epoch 5, Train Loss: 0.9013\n",
      "Epoch 6, Train Loss: 0.7669\n",
      "Epoch 7, Train Loss: 0.6708\n",
      "Epoch 8, Train Loss: 0.6014\n",
      "Epoch 9, Train Loss: 0.5502\n",
      "\tEpoch 10, Validation Loss: 75.2388\n",
      "Epoch 11, Train Loss: 0.4795\n",
      "Epoch 12, Train Loss: 0.4541\n",
      "Epoch 13, Train Loss: 0.4331\n",
      "Epoch 14, Train Loss: 0.4153\n",
      "Epoch 15, Train Loss: 0.4000\n",
      "Epoch 16, Train Loss: 0.3871\n",
      "Epoch 17, Train Loss: 0.3755\n",
      "Epoch 18, Train Loss: 0.3653\n",
      "Epoch 19, Train Loss: 0.3561\n",
      "\tEpoch 20, Validation Loss: 52.3292\n",
      "Epoch 21, Train Loss: 0.3403\n",
      "Epoch 22, Train Loss: 0.3335\n",
      "Epoch 23, Train Loss: 0.3270\n",
      "Epoch 24, Train Loss: 0.3209\n",
      "Epoch 25, Train Loss: 0.3153\n",
      "Epoch 26, Train Loss: 0.3098\n",
      "Epoch 27, Train Loss: 0.3048\n",
      "Epoch 28, Train Loss: 0.2999\n",
      "Epoch 29, Train Loss: 0.2954\n",
      "\tEpoch 30, Validation Loss: 44.4292\n"
     ]
    },
    {
     "data": {
      "image/png": "[encoded data removed]",
      "text/plain": [
       "<Figure size 432x288 with 1 Axes>"
      ]
     },
     "metadata": {
      "needs_background": "light"
     },
     "output_type": "display_data"
    },
    {
     "data": {
      "image/png": "[encoded data removed]",
      "text/plain": [
       "<Figure size 432x288 with 1 Axes>"
      ]
     },
     "metadata": {
      "needs_background": "light"
     },
     "output_type": "display_data"
    },
    {
     "name": "stdout",
     "output_type": "stream",
     "text": [
      "The tensorboard extension is already loaded. To reload it, use:\n",
      "  %reload_ext tensorboard\n"
     ]
    },
    {
     "data": {
      "text/plain": [
       "Reusing TensorBoard on port 6008 (pid 3895), started 1:05:49 ago. (Use '!kill 3895' to kill it.)"
      ]
     },
     "metadata": {},
     "output_type": "display_data"
    },
    {
     "data": {
      "text/html": [
       "\n",
       "      <iframe id=\"tensorboard-frame-4fd31c5f238d1dd6\" width=\"100%\" height=\"800\" frameborder=\"0\">\n",
       "      </iframe>\n",
       "      <script>\n",
       "        (function() {\n",
       "          const frame = document.getElementById(\"tensorboard-frame-4fd31c5f238d1dd6\");\n",
       "          const url = new URL(\"/\", window.location);\n",
       "          const port = 6008;\n",
       "          if (port) {\n",
       "            url.port = port;\n",
       "          }\n",
       "          frame.src = url;\n",
       "        })();\n",
       "      </script>\n",
       "    "
      ],
      "text/plain": [
       "<IPython.core.display.HTML object>"
      ]
     },
     "metadata": {},
     "output_type": "display_data"
    }
   ],
   "source": [
    "print(\"\\n__________________LA NORME L2 DE 0 __________________\")\n",
    "weight_decay = 0\n",
    "model = LinearMultiClass(in_size, out_size, hidden_layers, activation=nn.Tanh())\n",
    "criterion = nn.CrossEntropyLoss()\n",
    "optimizer = torch.optim.SGD(model.parameters(), lr=0.001, weight_decay=weight_decay)\n",
    "train(model, train_loader, validation_loader, loss_fn, optimizer, epochs=30)"
   ]
  },
  {
   "cell_type": "markdown",
   "id": "77394b67-00e5-44e4-92f0-db66bc7be39b",
   "metadata": {},
   "source": [
    "## Modèle LinearMultiClassWithDropout"
   ]
  },
  {
   "cell_type": "code",
   "execution_count": 34,
   "id": "6af10827-6de4-445d-a6b8-398bb2502311",
   "metadata": {},
   "outputs": [
    {
     "name": "stdout",
     "output_type": "stream",
     "text": [
      "\tEpoch 0, Validation Loss: 339.7960\n",
      "Epoch 1, Train Loss: 2.0953\n",
      "Epoch 2, Train Loss: 1.8706\n",
      "Epoch 3, Train Loss: 1.6108\n",
      "Epoch 4, Train Loss: 1.3829\n",
      "Epoch 5, Train Loss: 1.2087\n",
      "Epoch 6, Train Loss: 1.0763\n",
      "Epoch 7, Train Loss: 0.9738\n",
      "Epoch 8, Train Loss: 0.8932\n",
      "Epoch 9, Train Loss: 0.8279\n",
      "\tEpoch 10, Validation Loss: 87.2910\n",
      "Epoch 11, Train Loss: 0.7280\n",
      "Epoch 12, Train Loss: 0.6954\n",
      "Epoch 13, Train Loss: 0.6645\n",
      "Epoch 14, Train Loss: 0.6418\n",
      "Epoch 15, Train Loss: 0.6222\n",
      "Epoch 16, Train Loss: 0.6027\n",
      "Epoch 17, Train Loss: 0.5868\n",
      "Epoch 18, Train Loss: 0.5742\n",
      "Epoch 19, Train Loss: 0.5651\n",
      "\tEpoch 20, Validation Loss: 58.3586\n",
      "Epoch 21, Train Loss: 0.5460\n",
      "Epoch 22, Train Loss: 0.5371\n",
      "Epoch 23, Train Loss: 0.5313\n",
      "Epoch 24, Train Loss: 0.5225\n",
      "Epoch 25, Train Loss: 0.5182\n",
      "Epoch 26, Train Loss: 0.5052\n",
      "Epoch 27, Train Loss: 0.5054\n",
      "Epoch 28, Train Loss: 0.5004\n",
      "Epoch 29, Train Loss: 0.4932\n",
      "\tEpoch 30, Validation Loss: 51.1170\n",
      "Epoch 31, Train Loss: 0.4871\n",
      "Epoch 32, Train Loss: 0.4783\n",
      "Epoch 33, Train Loss: 0.4736\n",
      "Epoch 34, Train Loss: 0.4744\n",
      "Epoch 35, Train Loss: 0.4697\n",
      "Epoch 36, Train Loss: 0.4676\n",
      "Epoch 37, Train Loss: 0.4680\n",
      "Epoch 38, Train Loss: 0.4561\n",
      "Epoch 39, Train Loss: 0.4561\n",
      "\tEpoch 40, Validation Loss: 47.4737\n",
      "Epoch 41, Train Loss: 0.4517\n",
      "Epoch 42, Train Loss: 0.4487\n",
      "Epoch 43, Train Loss: 0.4457\n",
      "Epoch 44, Train Loss: 0.4414\n",
      "Epoch 45, Train Loss: 0.4428\n",
      "Epoch 46, Train Loss: 0.4399\n",
      "Epoch 47, Train Loss: 0.4398\n",
      "Epoch 48, Train Loss: 0.4318\n",
      "Epoch 49, Train Loss: 0.4315\n",
      "\tEpoch 50, Validation Loss: 45.4356\n",
      "Epoch 51, Train Loss: 0.4290\n",
      "Epoch 52, Train Loss: 0.4276\n",
      "Epoch 53, Train Loss: 0.4247\n",
      "Epoch 54, Train Loss: 0.4211\n",
      "Epoch 55, Train Loss: 0.4210\n",
      "Epoch 56, Train Loss: 0.4188\n",
      "Epoch 57, Train Loss: 0.4210\n",
      "Epoch 58, Train Loss: 0.4194\n",
      "Epoch 59, Train Loss: 0.4135\n",
      "\tEpoch 60, Validation Loss: 43.9080\n",
      "Epoch 61, Train Loss: 0.4133\n",
      "Epoch 62, Train Loss: 0.4129\n",
      "Epoch 63, Train Loss: 0.4087\n",
      "Epoch 64, Train Loss: 0.4105\n",
      "Epoch 65, Train Loss: 0.4101\n",
      "Epoch 66, Train Loss: 0.4115\n",
      "Epoch 67, Train Loss: 0.4025\n",
      "Epoch 68, Train Loss: 0.4064\n",
      "Epoch 69, Train Loss: 0.4036\n",
      "\tEpoch 70, Validation Loss: 42.6900\n",
      "Epoch 71, Train Loss: 0.4013\n",
      "Epoch 72, Train Loss: 0.3966\n",
      "Epoch 73, Train Loss: 0.3968\n",
      "Epoch 74, Train Loss: 0.3964\n",
      "Epoch 75, Train Loss: 0.3974\n",
      "Epoch 76, Train Loss: 0.3946\n",
      "Epoch 77, Train Loss: 0.3934\n",
      "Epoch 78, Train Loss: 0.3932\n",
      "Epoch 79, Train Loss: 0.3861\n",
      "\tEpoch 80, Validation Loss: 41.6518\n",
      "Epoch 81, Train Loss: 0.3884\n",
      "Epoch 82, Train Loss: 0.3882\n",
      "Epoch 83, Train Loss: 0.3866\n",
      "Epoch 84, Train Loss: 0.3860\n",
      "Epoch 85, Train Loss: 0.3807\n",
      "Epoch 86, Train Loss: 0.3842\n",
      "Epoch 87, Train Loss: 0.3824\n",
      "Epoch 88, Train Loss: 0.3781\n",
      "Epoch 89, Train Loss: 0.3824\n",
      "\tEpoch 90, Validation Loss: 40.6351\n",
      "Epoch 91, Train Loss: 0.3785\n",
      "Epoch 92, Train Loss: 0.3748\n",
      "Epoch 93, Train Loss: 0.3758\n",
      "Epoch 94, Train Loss: 0.3731\n",
      "Epoch 95, Train Loss: 0.3753\n",
      "Epoch 96, Train Loss: 0.3766\n",
      "Epoch 97, Train Loss: 0.3746\n",
      "Epoch 98, Train Loss: 0.3753\n",
      "Epoch 99, Train Loss: 0.3764\n",
      "\tEpoch 100, Validation Loss: 39.6431\n"
     ]
    },
    {
     "data": {
      "image/png": "[encoded data removed]",
      "text/plain": [
       "<Figure size 432x288 with 1 Axes>"
      ]
     },
     "metadata": {
      "needs_background": "light"
     },
     "output_type": "display_data"
    },
    {
     "data": {
      "image/png": "[encoded data removed]",
      "text/plain": [
       "<Figure size 432x288 with 1 Axes>"
      ]
     },
     "metadata": {
      "needs_background": "light"
     },
     "output_type": "display_data"
    },
    {
     "name": "stdout",
     "output_type": "stream",
     "text": [
      "The tensorboard extension is already loaded. To reload it, use:\n",
      "  %reload_ext tensorboard\n"
     ]
    },
    {
     "data": {
      "text/html": [
       "\n",
       "      <iframe id=\"tensorboard-frame-1ca98900859e9dd8\" width=\"100%\" height=\"800\" frameborder=\"0\">\n",
       "      </iframe>\n",
       "      <script>\n",
       "        (function() {\n",
       "          const frame = document.getElementById(\"tensorboard-frame-1ca98900859e9dd8\");\n",
       "          const url = new URL(\"/\", window.location);\n",
       "          const port = 6010;\n",
       "          if (port) {\n",
       "            url.port = port;\n",
       "          }\n",
       "          frame.src = url;\n",
       "        })();\n",
       "      </script>\n",
       "    "
      ],
      "text/plain": [
       "<IPython.core.display.HTML object>"
      ]
     },
     "metadata": {},
     "output_type": "display_data"
    }
   ],
   "source": [
    "dropout_rate = 0.5\n",
    "model = LinearMultiClassWithDropout(in_size, out_size, hidden_layers, dropout_rate)\n",
    "\n",
    "# Define our loss function and optimizer\n",
    "loss_fn = nn.CrossEntropyLoss()\n",
    "optimizer = torch.optim.SGD(model.parameters(), lr=0.001)\n",
    "\n",
    "# Train the model Dropout\n",
    "modelLinearMultiClassWithDropout_ExecutionTime, modelLinearMultiClassWithDropout_Complexity, modelLinearMultiClassWithDropout_validationLoss, modelLinearMultiClassWithDropout_accuracy = train_dropout(model, train_loader, validation_loader, loss_fn, optimizer, epochs=100, dropout_rate=dropout_rate)"
   ]
  },
  {
   "cell_type": "markdown",
   "id": "ca9ccada-85f8-44e9-9e7d-596b1b715c87",
   "metadata": {},
   "source": [
    "## Modèle LinearMultiClassWithBatchNorm"
   ]
  },
  {
   "cell_type": "code",
   "execution_count": 35,
   "id": "4da6a3be-1a20-4f29-af0f-aed859c0d7c5",
   "metadata": {},
   "outputs": [
    {
     "name": "stderr",
     "output_type": "stream",
     "text": [
      "<ipython-input-4-8096a4ae721a>:73: UserWarning: Implicit dimension choice for softmax has been deprecated. Change the call to include dim=X as an argument.\n",
      "  x = self.activation(x)\n"
     ]
    },
    {
     "name": "stdout",
     "output_type": "stream",
     "text": [
      "\tEpoch 0, Validation Loss: 134.0159\n",
      "Epoch 1, Train Loss: 0.5517\n",
      "Epoch 2, Train Loss: 0.2523\n",
      "Epoch 3, Train Loss: 0.1600\n",
      "Epoch 4, Train Loss: 0.1183\n",
      "Epoch 5, Train Loss: 0.0919\n",
      "Epoch 6, Train Loss: 0.0791\n",
      "Epoch 7, Train Loss: 0.0655\n",
      "Epoch 8, Train Loss: 0.0631\n",
      "Epoch 9, Train Loss: 0.0488\n",
      "\tEpoch 10, Validation Loss: 11.4527\n",
      "Epoch 11, Train Loss: 0.0455\n",
      "Epoch 12, Train Loss: 0.0403\n",
      "Epoch 13, Train Loss: 0.0371\n",
      "Epoch 14, Train Loss: 0.0367\n",
      "Epoch 15, Train Loss: 0.0317\n",
      "Epoch 16, Train Loss: 0.0310\n",
      "Epoch 17, Train Loss: 0.0286\n",
      "Epoch 18, Train Loss: 0.0267\n",
      "Epoch 19, Train Loss: 0.0266\n",
      "\tEpoch 20, Validation Loss: 12.6389\n",
      "Epoch 21, Train Loss: 0.0233\n",
      "Epoch 22, Train Loss: 0.0198\n",
      "Epoch 23, Train Loss: 0.0198\n",
      "Epoch 24, Train Loss: 0.0187\n",
      "Epoch 25, Train Loss: 0.0175\n",
      "Epoch 26, Train Loss: 0.0214\n",
      "Epoch 27, Train Loss: 0.0188\n",
      "Epoch 28, Train Loss: 0.0167\n",
      "Epoch 29, Train Loss: 0.0165\n",
      "\tEpoch 30, Validation Loss: 13.2232\n",
      "Epoch 31, Train Loss: 0.0142\n",
      "Epoch 32, Train Loss: 0.0137\n",
      "Epoch 33, Train Loss: 0.0121\n",
      "Epoch 34, Train Loss: 0.0129\n",
      "Epoch 35, Train Loss: 0.0145\n",
      "Epoch 36, Train Loss: 0.0139\n",
      "Epoch 37, Train Loss: 0.0157\n",
      "Epoch 38, Train Loss: 0.0110\n",
      "Epoch 39, Train Loss: 0.0130\n",
      "\tEpoch 40, Validation Loss: 12.3869\n",
      "Epoch 41, Train Loss: 0.0127\n",
      "Epoch 42, Train Loss: 0.0110\n",
      "Epoch 43, Train Loss: 0.0106\n",
      "Epoch 44, Train Loss: 0.0135\n",
      "Epoch 45, Train Loss: 0.0112\n",
      "Epoch 46, Train Loss: 0.0101\n",
      "Epoch 47, Train Loss: 0.0108\n",
      "Epoch 48, Train Loss: 0.0095\n",
      "Epoch 49, Train Loss: 0.0103\n",
      "\tEpoch 50, Validation Loss: 12.6404\n",
      "Epoch 51, Train Loss: 0.0104\n",
      "Epoch 52, Train Loss: 0.0117\n",
      "Epoch 53, Train Loss: 0.0095\n",
      "Epoch 54, Train Loss: 0.0096\n",
      "Epoch 55, Train Loss: 0.0085\n",
      "Epoch 56, Train Loss: 0.0095\n",
      "Epoch 57, Train Loss: 0.0076\n",
      "Epoch 58, Train Loss: 0.0071\n",
      "Epoch 59, Train Loss: 0.0080\n",
      "\tEpoch 60, Validation Loss: 12.5304\n",
      "Epoch 61, Train Loss: 0.0090\n",
      "Epoch 62, Train Loss: 0.0066\n",
      "Epoch 63, Train Loss: 0.0072\n",
      "Epoch 64, Train Loss: 0.0064\n",
      "Epoch 65, Train Loss: 0.0074\n",
      "Epoch 66, Train Loss: 0.0079\n",
      "Epoch 67, Train Loss: 0.0063\n",
      "Epoch 68, Train Loss: 0.0075\n",
      "Epoch 69, Train Loss: 0.0074\n",
      "\tEpoch 70, Validation Loss: 11.3529\n",
      "Epoch 71, Train Loss: 0.0069\n",
      "Epoch 72, Train Loss: 0.0070\n",
      "Epoch 73, Train Loss: 0.0074\n",
      "Epoch 74, Train Loss: 0.0057\n",
      "Epoch 75, Train Loss: 0.0071\n",
      "Epoch 76, Train Loss: 0.0058\n",
      "Epoch 77, Train Loss: 0.0060\n",
      "Epoch 78, Train Loss: 0.0054\n",
      "Epoch 79, Train Loss: 0.0076\n",
      "\tEpoch 80, Validation Loss: 12.9058\n",
      "Epoch 81, Train Loss: 0.0063\n",
      "Epoch 82, Train Loss: 0.0055\n",
      "Epoch 83, Train Loss: 0.0058\n",
      "Epoch 84, Train Loss: 0.0069\n",
      "Epoch 85, Train Loss: 0.0062\n",
      "Epoch 86, Train Loss: 0.0073\n",
      "Epoch 87, Train Loss: 0.0058\n",
      "Epoch 88, Train Loss: 0.0047\n",
      "Epoch 89, Train Loss: 0.0066\n",
      "\tEpoch 90, Validation Loss: 12.3101\n",
      "Epoch 91, Train Loss: 0.0054\n",
      "Epoch 92, Train Loss: 0.0043\n",
      "Epoch 93, Train Loss: 0.0053\n",
      "Epoch 94, Train Loss: 0.0057\n",
      "Epoch 95, Train Loss: 0.0046\n",
      "Epoch 96, Train Loss: 0.0051\n",
      "Epoch 97, Train Loss: 0.0045\n",
      "Epoch 98, Train Loss: 0.0064\n",
      "Epoch 99, Train Loss: 0.0049\n",
      "\tEpoch 100, Validation Loss: 12.3148\n"
     ]
    },
    {
     "data": {
      "image/png": "[encoded data removed]",
      "text/plain": [
       "<Figure size 432x288 with 1 Axes>"
      ]
     },
     "metadata": {
      "needs_background": "light"
     },
     "output_type": "display_data"
    },
    {
     "data": {
      "image/png": "[encoded data removed]",
      "text/plain": [
       "<Figure size 432x288 with 1 Axes>"
      ]
     },
     "metadata": {
      "needs_background": "light"
     },
     "output_type": "display_data"
    },
    {
     "name": "stdout",
     "output_type": "stream",
     "text": [
      "The tensorboard extension is already loaded. To reload it, use:\n",
      "  %reload_ext tensorboard\n"
     ]
    },
    {
     "data": {
      "text/html": [
       "\n",
       "      <iframe id=\"tensorboard-frame-2f272b6f2a285187\" width=\"100%\" height=\"800\" frameborder=\"0\">\n",
       "      </iframe>\n",
       "      <script>\n",
       "        (function() {\n",
       "          const frame = document.getElementById(\"tensorboard-frame-2f272b6f2a285187\");\n",
       "          const url = new URL(\"/\", window.location);\n",
       "          const port = 6011;\n",
       "          if (port) {\n",
       "            url.port = port;\n",
       "          }\n",
       "          frame.src = url;\n",
       "        })();\n",
       "      </script>\n",
       "    "
      ],
      "text/plain": [
       "<IPython.core.display.HTML object>"
      ]
     },
     "metadata": {},
     "output_type": "display_data"
    }
   ],
   "source": [
    "model = LinearMultiClassWithBatchNorm(in_size=784, out_size=10, hidden_layers=[256, 128, 64], activation=nn.Softmax())\n",
    "loss_fn = nn.CrossEntropyLoss()\n",
    "optimizer = torch.optim.Adam(model.parameters(), lr=0.001)\n",
    "modelLinearMultiClassWithBatchNorm_ExecutionTime, modelLinearMultiClassWithBatchNorm_Complexity, modelLinearMultiClassWithBatchNorm_validationLoss, modelLinearMultiClassWithBatchNorm_accuracy = train_batchnorm(model, train_loader, validation_loader, loss_fn, optimizer, epochs=100)"
   ]
  },
  {
   "cell_type": "markdown",
   "id": "01e970fd-6593-42b8-9937-294586026c74",
   "metadata": {},
   "source": [
    "# Fonction de comparaison des modèles \n",
    "\n",
    "Cette fonction renvoie maintenant des informations détaillées sur les deux modèles, y compris la perte, la précision, la complexité en termes de nombre de paramètres et le temps d'évaluation sur les données de validation. \n",
    "\n",
    "Pour comparer les performances d'un modèle sur des données de validation, il est plus pratique de comparer les moyennes des pertes de validation (validation_loss) calculées sur l'ensemble des données de validation pour chaque époque.\n",
    "\n",
    "<span style=\"color: red;\">N.B.</span> <span style=\"font-style: italic;\">L'accuracy est un métrique couramment utilisé pour évaluer la performance d'un modèle de classification. C'est la proportion de prédictions correctes que le modèle fait par rapport au nombre total de prédictions. L'accuracy est généralement exprimée en pourcentage et peut être calculée en comparant les étiquettes prévues par le modèle avec les étiquettes réelles. Plus l'accuracy est élevée, meilleure est la performance du modèle.</span>"
   ]
  },
  {
   "cell_type": "code",
   "execution_count": null,
   "id": "f6570f29-dd45-4844-8670-8bf94713abe3",
   "metadata": {},
   "outputs": [],
   "source": [
    "def compare_models(executionTimeOfModel1, complexityOfModel1, validationLossOfModel1, accuracyOfModel1, executionTimeOfModel2, complexityOfModel2, validationLossOfModel2, accuracyOfModel2):\n",
    "    print(\"Le modèle 1 a une perte de {} sur les données de validation avec une précision de {}% et une complexité de {} paramètres et un temps d'évaluation de {}s\".format(validationLossOfModel1, accuracyOfModel1*100, complexityOfModel1, executionTimeOfModel1))\n",
    "    print(\"Le modèle 2 a une perte de {} sur les données de validation avec une précision de {}% et une complexité de {} paramètres et un temps d'évaluation de {}s\".format(validationLossOfModel2, accuracyOfModel2*100, complexityOfModel2, executionTimeOfModel2))\n",
    "\n",
    "    if validationLossOfModel1 < validationLossOfModel2:\n",
    "        print(\"\\tLe modèle 1 a une perte plus faible sur les données de validation.\")\n",
    "        return 1\n",
    "    else:\n",
    "        print(\"\\tLe modèle 2 a une perte plus faible sur les données de validation.\")\n",
    "        return 2"
   ]
  },
  {
   "cell_type": "markdown",
   "id": "083fa675-4e57-4c90-869e-5c445d9fd40f",
   "metadata": {},
   "source": [
    "# Comparaison des données des modèles"
   ]
  },
  {
   "cell_type": "markdown",
   "id": "38981fd7-fbec-4ce5-b6f2-b81bb02d020f",
   "metadata": {},
   "source": [
    "## Pour : LinearMultiClass & LinearMultiClassWithDropout"
   ]
  },
  {
   "cell_type": "code",
   "execution_count": 2,
   "id": "25153925-8991-49d5-8a55-b7031a1b9472",
   "metadata": {},
   "outputs": [
    {
     "ename": "NameError",
     "evalue": "name 'compare_models' is not defined",
     "output_type": "error",
     "traceback": [
      "\u001b[0;31m---------------------------------------------------------------------------\u001b[0m",
      "\u001b[0;31mNameError\u001b[0m                                 Traceback (most recent call last)",
      "\u001b[0;32m<ipython-input-2-abab1c652e2c>\u001b[0m in \u001b[0;36m<module>\u001b[0;34m\u001b[0m\n\u001b[0;32m----> 1\u001b[0;31m \u001b[0mresultTest1\u001b[0m \u001b[0;34m=\u001b[0m \u001b[0mcompare_models\u001b[0m\u001b[0;34m(\u001b[0m\u001b[0mmodelLinearMultiClass_ExecutionTime\u001b[0m\u001b[0;34m,\u001b[0m \u001b[0mmodelLinearMultiClass_Complexity\u001b[0m\u001b[0;34m,\u001b[0m \u001b[0mmodelLinearMultiClass_validationLoss\u001b[0m\u001b[0;34m,\u001b[0m \u001b[0mmodelLinearMultiClass_accuracy\u001b[0m\u001b[0;34m,\u001b[0m \u001b[0mmodelLinearMultiClassWithDropout_ExecutionTime\u001b[0m\u001b[0;34m,\u001b[0m \u001b[0mmodelLinearMultiClassWithDropout_Complexity\u001b[0m\u001b[0;34m,\u001b[0m \u001b[0mmodelLinearMultiClassWithDropout_validationLoss\u001b[0m\u001b[0;34m,\u001b[0m \u001b[0mmodelLinearMultiClassWithDropout_accuracy\u001b[0m\u001b[0;34m)\u001b[0m\u001b[0;34m\u001b[0m\u001b[0;34m\u001b[0m\u001b[0m\n\u001b[0m\u001b[1;32m      2\u001b[0m \u001b[0;34m\u001b[0m\u001b[0m\n\u001b[1;32m      3\u001b[0m \u001b[0;32mif\u001b[0m \u001b[0mresultTest1\u001b[0m \u001b[0;34m==\u001b[0m \u001b[0;36m1\u001b[0m\u001b[0;34m:\u001b[0m\u001b[0;34m\u001b[0m\u001b[0;34m\u001b[0m\u001b[0m\n\u001b[1;32m      4\u001b[0m     \u001b[0mprint\u001b[0m\u001b[0;34m(\u001b[0m\u001b[0;34m\"\\n_________________\\nLe Modèle LinearMultiClass est le plus performant !\\n_________________\\n\"\u001b[0m\u001b[0;34m)\u001b[0m\u001b[0;34m\u001b[0m\u001b[0;34m\u001b[0m\u001b[0m\n\u001b[1;32m      5\u001b[0m \u001b[0;32melse\u001b[0m\u001b[0;34m:\u001b[0m\u001b[0;34m\u001b[0m\u001b[0;34m\u001b[0m\u001b[0m\n",
      "\u001b[0;31mNameError\u001b[0m: name 'compare_models' is not defined"
     ]
    }
   ],
   "source": [
    "resultTest1 = compare_models(modelLinearMultiClass_ExecutionTime, modelLinearMultiClass_Complexity, modelLinearMultiClass_validationLoss, modelLinearMultiClass_accuracy, modelLinearMultiClassWithDropout_ExecutionTime, modelLinearMultiClassWithDropout_Complexity, modelLinearMultiClassWithDropout_validationLoss, modelLinearMultiClassWithDropout_accuracy)\n",
    "\n",
    "if resultTest1 == 1:\n",
    "    print(\"\\n_________________\\nLe Modèle LinearMultiClass est le plus performant !\\n_________________\\n\")\n",
    "else:\n",
    "    print(\"\\n_________________\\nLe Modèle LinearMultiClassWithDropout est le plus performant !\\n_________________\\n\")"
   ]
  },
  {
   "cell_type": "markdown",
   "id": "b4392e38-c096-4d50-ada4-de705e18aec8",
   "metadata": {},
   "source": [
    "## Pour : LinearMultiClass & LinearMultiClassWithBatchNorm"
   ]
  },
  {
   "cell_type": "code",
   "execution_count": null,
   "id": "ad5104f4-e64b-4e1c-94ea-61930aec8f7a",
   "metadata": {},
   "outputs": [],
   "source": [
    "resultTest2 = compare_models(modelLinearMultiClass_ExecutionTime, modelLinearMultiClass_Complexity, modelLinearMultiClass_validationLoss, modelLinearMultiClass_accuracy, modelLinearMultiClassWithBatchNorm_ExecutionTime, modelLinearMultiClassWithBatchNorm_Complexity, modelLinearMultiClassWithBatchNorm_validationLoss, modelLinearMultiClassWithBatchNorm_accuracy)\n",
    "\n",
    "if resultTest2 == 1:\n",
    "    print(\"\\n_________________\\nLe Modèle LinearMultiClass est le plus performant !\\n_________________\\n\")\n",
    "else:\n",
    "    print(\"\\n_________________\\nLe Modèle LinearMultiClassWithBatchNorm est le plus performant !\\n_________________\\n\")"
   ]
  },
  {
   "cell_type": "markdown",
   "id": "ee7b7f32-d47c-458c-874d-549340ac015a",
   "metadata": {},
   "source": [
    "## Pour : LinearMultiClassWithDropout & LinearMultiClassWithBatchNorm"
   ]
  },
  {
   "cell_type": "code",
   "execution_count": null,
   "id": "1a991b17-cc71-4168-8d35-a8904b3274d3",
   "metadata": {},
   "outputs": [],
   "source": [
    "resultTest3 = compare_models(modelLinearMultiClassWithDropout_ExecutionTime, modelLinearMultiClassWithDropout_Complexity, modelLinearMultiClassWithDropout_validationLoss, modelLinearMultiClassWithDropout_accuracy, modelLinearMultiClassWithBatchNorm_ExecutionTime, modelLinearMultiClassWithBatchNorm_Complexity, modelLinearMultiClassWithBatchNorm_validationLoss, modelLinearMultiClassWithBatchNorm_accuracy)\n",
    "\n",
    "if resultTest2 == 1:\n",
    "    print(\"\\n_________________\\nLe Modèle LinearMultiClassWithDropout est le plus performant !\\n_________________\\n\")\n",
    "else:\n",
    "    print(\"\\n_________________\\nLe Modèle LinearMultiClassWithBatchNorm est le plus performant !\\n_________________\\n\")"
   ]
  },
  {
   "cell_type": "markdown",
   "id": "0cf7fa02-6c4b-4539-ae27-f8817de96b58",
   "metadata": {},
   "source": [
    "# Conclusion\n",
    "<span style=\"color: #09F72B;\"> Nous pouvons donc conclure que le modèle <span style=\"color:#096DF7;\">xxx</span> est le plus performant des trois (3) modèles que nous avons eu à étudier avec nos jeux de données.</span>"
   ]
  }
 ],
 "metadata": {
  "kernelspec": {
   "display_name": "Python 3",
   "language": "python",
   "name": "python3"
  },
  "language_info": {
   "codemirror_mode": {
    "name": "ipython",
    "version": 3
   },
   "file_extension": ".py",
   "mimetype": "text/x-python",
   "name": "python",
   "nbconvert_exporter": "python",
   "pygments_lexer": "ipython3",
   "version": "3.11.1"
  }
 },
 "nbformat": 4,
 "nbformat_minor": 5
}
