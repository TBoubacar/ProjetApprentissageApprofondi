{
 "cells": [
  {
   "cell_type": "markdown",
   "id": "7c5dd04a-67ec-456f-9f62-61c478018d92",
   "metadata": {},
   "source": [
    "# TP3 - Deep Learning : Méthodologie, Expérimentations et Régularisation \n",
    "\n",
    "<p style=\"font-weight: bold; font-size: 16px;\"><span style=\"color: red;\">Auteur : </span>TOURE Boubacar (<a href=\"boubacar.toure@etud.univ-angers.fr\">boubacar.toure@etud.univ-angers.fr</a>), étudiant en Master 2 Informatique à la faculté des sciences d'Angers</p>\n",
    "<p style=\"font-weight: bold; font-size: 16px;\"><span style=\"color: red;\">Professeur Référent : </span>Sylvain Lamprier (<a href=\"sylvain.lamprier@univ-angers.fr\">sylvain.lamprier@univ-angers.fr</a>)</p>\n",
    "\n",
    "Supports adaptés de Nicolas Baskiotis (<a href=\"nicolas.baskiotis@sorbonne-univeriste.fr\">nicolas.baskiotis@sorbonne-univeriste.fr</a>) et Benjamin Piwowarski (<a href=\"benjamin.piwowarski@sorbonne-universite.fr\">benjamin.piwowarski@sorbonne-universite.fr</a>) -- MLIA/ISIR, Sorbonne Université"
   ]
  },
  {
   "cell_type": "markdown",
   "id": "d6a31723-13bc-45bb-957c-203b416f2a13",
   "metadata": {},
   "source": [
    "# Import du projet"
   ]
  },
  {
   "cell_type": "code",
   "execution_count": 2,
   "id": "4407ecdf-9996-405e-b0bf-6290b7517255",
   "metadata": {
    "tags": []
   },
   "outputs": [],
   "source": [
    "import matplotlib.pyplot as plt\n",
    "import torch.nn as nn\n",
    "import shutil\n",
    "import torch\n",
    "import time\n",
    "import os\n",
    "\n",
    "from torch.utils.tensorboard import SummaryWriter\n",
    "from torch.utils.data import DataLoader\n",
    "from torchvision.datasets import MNIST\n",
    "from torchvision import transforms\n",
    "\n",
    "from tqdm.autonotebook import tqdm\n",
    "from tqdm import tqdm"
   ]
  },
  {
   "cell_type": "markdown",
   "id": "b63c7ed9-a8e6-4ae5-adb2-e503752475ee",
   "metadata": {},
   "source": [
    "# Déclaration des fonctions "
   ]
  },
  {
   "cell_type": "code",
   "execution_count": 3,
   "id": "b1171038-b872-4958-9dbe-b5cfc2ea4619",
   "metadata": {
    "tags": []
   },
   "outputs": [],
   "source": [
    "def save_state(fichier,epoch,model,optim):\n",
    "    state = {'epoch' : epoch, 'model_state': model.state_dict(), 'optim_state': optim.state_dict()}\n",
    "    torch.save(state,fichier)\n",
    "\n",
    "def load_state(fichier,model,optim):\n",
    "    epoch = 0\n",
    "    if os.path.isfile(fichier):\n",
    "        state = torch.load(fichier)\n",
    "        model.load_state_dict(state['model_state'])\n",
    "        optim.load_state_dict(state['optim_state'])\n",
    "        epoch = state['epoch']\n",
    "    return epoch\n",
    "\n",
    "def unnormalize(img, mean, std):\n",
    "    if img.dim()==2 or ((img.dim()==3) and (img.size()[0]==1)):\n",
    "        return img*std[0]+mean[0]\n",
    "    return img * img.new(std).view(3, 1, 1) + img.new(mean).view(3, 1, 1)\n",
    "\n",
    "\n",
    "def train(model, train_loader, validation_loader, loss_fn, optimizer, epochs, typeTrain=\"\"):\n",
    "    device = torch.device(\"cuda:0\" if torch.cuda.is_available() else \"cpu\")\n",
    "    model = model.to(device)\n",
    "    loss_fn = loss_fn.to(device)\n",
    "    \n",
    "    # Clear any logs from previous runs\n",
    "    if os.path.exists(f\"/tmp/logs/deepLearning/{model.name}-train\"):\n",
    "        shutil.rmtree(f\"/tmp/logs/deepLearning/{model.name}-train\")\n",
    "    \n",
    "    # On créé un writer avec la date du modèle pour s'y retrouver\n",
    "    TB_PATH = f\"/tmp/logs/deepLearning\"\n",
    "    MODEL_PATH = \"/tmp/models/\"\n",
    "    os.makedirs(MODEL_PATH, exist_ok=True)\n",
    "    check_file = f\"{MODEL_PATH}/{model.name}-train-{typeTrain}.pth\"\n",
    "    \n",
    "    summary = SummaryWriter(f\"{TB_PATH}/{model.name}-train\")\n",
    "    \n",
    "    train_losses = []\n",
    "    validation_losses = []\n",
    "    accuraciesOfValidation = []\n",
    "    accuraciesOfTrain = []\n",
    "\n",
    "    start_epoch = load_state(check_file, model, optimizer)\n",
    "    \n",
    "    start_time = time.time()\n",
    "    for epoch in range(start_epoch, epochs+1):\n",
    "        # Entraînement sur les données d'entraînement\n",
    "        model.train()\n",
    "        train_loss = 0.0\n",
    "        correct = 0\n",
    "        total = 0\n",
    "        for inputs, targets in train_loader:\n",
    "            inputs, targets = inputs.to(device), targets.to(device)\n",
    "            optimizer.zero_grad()\n",
    "            outputs = model(inputs)\n",
    "            _, predicted = torch.max(outputs.data, 1)\n",
    "            total += targets.size(0)\n",
    "            correct += (predicted == targets).sum().item()\n",
    "            loss = loss_fn(outputs, targets)\n",
    "            loss.backward()\n",
    "            optimizer.step()\n",
    "            train_loss += loss.item()\n",
    "        \n",
    "        accuracy = correct / total\n",
    "        accuraciesOfTrain.append(accuracy)\n",
    "        summary.add_scalar(\"Accuracy_Of_Train\", accuracy, epoch)\n",
    "        summary.add_scalar(\"Loss_Of_Train\", train_loss/len(train_loader), epoch)\n",
    "        train_losses.append(train_loss/len(train_loader))\n",
    "            \n",
    "        if epoch % 10 == 0: \n",
    "            # Evaluation sur les données de test\n",
    "            save_state(check_file, epoch, model, optimizer)\n",
    "            model.eval()\n",
    "            with torch.no_grad():\n",
    "                validation_loss = 0\n",
    "                correct = 0\n",
    "                total = 0\n",
    "                for inputs, labels in validation_loader:\n",
    "                    inputs, labels = inputs.to(device), labels.to(device)\n",
    "                    outputs = model(inputs)\n",
    "                    _, predicted = torch.max(outputs.data, 1)\n",
    "                    total += labels.size(0)\n",
    "                    correct += (predicted == labels).sum().item()\n",
    "                    validation_loss += loss_fn(outputs, labels).item()\n",
    "            \n",
    "            accuracy = correct / total\n",
    "            accuraciesOfValidation.append(accuracy)\n",
    "            summary.add_scalar(\"Accuracy_Of_Validation\", accuracy, epoch)\n",
    "            summary.add_scalar(\"Loss_Of_Validation\", validation_loss/len(validation_loader), epoch)\n",
    "            validation_losses.append(validation_loss/len(validation_loader))\n",
    "            \n",
    "            print(\"\\tEpoch {}, Validation Loss: {:.4f}, Validation Accuracy: {:.4f}\".format(epoch, validation_loss, accuracy))\n",
    "        else:\n",
    "            print(\"Epoch {}, Train Loss: {:.4f}, Train Accuracy: {:.4f}\".format(epoch, train_loss/len(train_loader), accuracy))\n",
    "    end_time = time.time()\n",
    "    \n",
    "    trainTime = end_time - start_time\n",
    "    trainModelComplexity = sum(p.numel() for p in model.parameters() if p.requires_grad)\n",
    "    \n",
    "    plt.figure\n",
    "    plt.plot(train_losses)\n",
    "    plt.title('Train Loss')\n",
    "    plt.xlabel('Epoch')\n",
    "    plt.ylabel('Loss')\n",
    "    plt.show()\n",
    "    \n",
    "    plt.figure()\n",
    "    plt.plot(accuraciesOfTrain)\n",
    "    plt.title('Train Accuracy')\n",
    "    plt.xlabel('Epoch')\n",
    "    plt.ylabel('Loss')\n",
    "    plt.show()\n",
    "    \n",
    "    plt.figure()\n",
    "    plt.plot(validation_losses)\n",
    "    plt.title('Validation Loss')\n",
    "    plt.xlabel('Epoch')\n",
    "    plt.ylabel('Loss')\n",
    "    plt.show()\n",
    "    \n",
    "    plt.figure()\n",
    "    plt.plot(accuraciesOfValidation)\n",
    "    plt.title('Validation Accuracy')\n",
    "    plt.xlabel('Epoch')\n",
    "    plt.ylabel('Loss')\n",
    "    plt.show()\n",
    "    \n",
    "    # Load the TensorBoard notebook extension\n",
    "    %load_ext tensorboard\n",
    "    %tensorboard --logdir {TB_PATH}/{model.name}-train\n",
    "    \n",
    "    return trainTime, trainModelComplexity, validation_loss, accuracy\n",
    "\n",
    "def set_dropout_rate(m, rate):\n",
    "    if type(m) == nn.Dropout:\n",
    "        m.p = rate\n",
    "\n",
    "def train_dropout(model, train_loader, validation_loader, loss_fn, optimizer, epochs, dropout_rate, typeTrain=\"\"):\n",
    "    device = torch.device(\"cuda:0\" if torch.cuda.is_available() else \"cpu\")\n",
    "    model = model.to(device)\n",
    "    loss_fn = loss_fn.to(device)\n",
    "    \n",
    "    # Clear any logs from previous runs\n",
    "    if os.path.exists(f\"/tmp/logs/deepLearning/{model.name}-train_dropout\"):\n",
    "        shutil.rmtree(f\"/tmp/logs/deepLearning/{model.name}-train_dropout\")\n",
    "    \n",
    "    # On créé un writer avec la date du modèle pour s'y retrouver\n",
    "    TB_PATH = f\"/tmp/logs/deepLearning\"\n",
    "    MODEL_PATH = \"/tmp/models/\"\n",
    "    os.makedirs(MODEL_PATH, exist_ok=True)\n",
    "    check_file = f\"{MODEL_PATH}/{model.name}-train_dropout-{typeTrain}.pth\"\n",
    "    \n",
    "    summary = SummaryWriter(f\"{TB_PATH}/{model.name}-train_dropout\")\n",
    "    \n",
    "    train_losses = []\n",
    "    validation_losses = []\n",
    "    accuraciesOfValidation = []\n",
    "    accuraciesOfTrain = []\n",
    "    \n",
    "    start_epoch = load_state(check_file, model, optimizer)\n",
    "    \n",
    "    start_time = time.time()\n",
    "    for epoch in range(start_epoch, epochs+1):\n",
    "        # Entraînement sur les données d'entraînement\n",
    "        model.train()\n",
    "        model.apply(lambda x: set_dropout_rate(x, dropout_rate))\n",
    "        train_loss = 0.0\n",
    "        correct = 0\n",
    "        total = 0\n",
    "        for inputs, targets in train_loader:\n",
    "            inputs, targets = inputs.to(device), targets.to(device)\n",
    "            optimizer.zero_grad()\n",
    "            outputs = model(inputs)\n",
    "            _, predicted = torch.max(outputs.data, 1)\n",
    "            total += targets.size(0)\n",
    "            correct += (predicted == targets).sum().item()\n",
    "            loss = loss_fn(outputs, targets)\n",
    "            loss.backward()\n",
    "            optimizer.step()\n",
    "            train_loss += loss.item()\n",
    "        \n",
    "        accuracy = correct / total\n",
    "        accuraciesOfTrain.append(accuracy)\n",
    "        summary.add_scalar(\"Accuracy_Of_Train\", accuracy, epoch)\n",
    "        summary.add_scalar(\"Loss_Of_Train\", train_loss/len(train_loader), epoch)\n",
    "        train_losses.append(train_loss/len(train_loader))\n",
    "            \n",
    "        if epoch % 10 == 0: \n",
    "            # Evaluation sur les données de test\n",
    "            model.eval()\n",
    "            model.apply(lambda x: set_dropout_rate(x, 0))\n",
    "            with torch.no_grad():\n",
    "                validation_loss = 0\n",
    "                correct = 0\n",
    "                total = 0\n",
    "                for inputs, labels in validation_loader:\n",
    "                    inputs, labels = inputs.to(device), labels.to(device)\n",
    "                    outputs = model(inputs)\n",
    "                    _, predicted = torch.max(outputs.data, 1)\n",
    "                    total += labels.size(0)\n",
    "                    correct += (predicted == labels).sum().item()\n",
    "                    validation_loss += loss_fn(outputs, labels).item()\n",
    "            \n",
    "            accuracy = correct / total\n",
    "            accuraciesOfValidation.append(accuracy)\n",
    "            summary.add_scalar(\"Accuracy\", accuracy, epoch)\n",
    "            summary.add_scalar(\"Loss_Of_Validation\", validation_loss/len(validation_loader), epoch)\n",
    "            validation_losses.append(validation_loss/len(validation_loader))\n",
    "            \n",
    "            print(\"\\tEpoch {}, Validation Loss: {:.4f}, Validation Accuracy: {:.4f}\".format(epoch, validation_loss, accuracy))\n",
    "        else:\n",
    "            print(\"Epoch {}, Train Loss: {:.4f}, Train Accuracy: {:.4f}\".format(epoch, train_loss/len(train_loader), accuracy))\n",
    "    end_time = time.time()\n",
    "    trainTime = end_time - start_time\n",
    "    \n",
    "    trainModelComplexity = sum(p.numel() for p in model.parameters() if p.requires_grad)\n",
    "    \n",
    "    plt.figure\n",
    "    plt.plot(train_losses)\n",
    "    plt.title('Train Loss')\n",
    "    plt.xlabel('Epoch')\n",
    "    plt.ylabel('Loss')\n",
    "    plt.show()\n",
    "    \n",
    "    plt.figure()\n",
    "    plt.plot(accuraciesOfTrain)\n",
    "    plt.title('Train Accuracy')\n",
    "    plt.xlabel('Epoch')\n",
    "    plt.ylabel('Loss')\n",
    "    plt.show()\n",
    "    \n",
    "    plt.figure()\n",
    "    plt.plot(validation_losses)\n",
    "    plt.title('Validation Loss')\n",
    "    plt.xlabel('Epoch')\n",
    "    plt.ylabel('Loss')\n",
    "    plt.show()\n",
    "    \n",
    "    plt.figure()\n",
    "    plt.plot(accuraciesOfValidation)\n",
    "    plt.title('Validation Accuracy')\n",
    "    plt.xlabel('Epoch')\n",
    "    plt.ylabel('Loss')\n",
    "    plt.show()\n",
    "    \n",
    "    # Load the TensorBoard notebook extension\n",
    "    %load_ext tensorboard\n",
    "    %tensorboard --logdir {TB_PATH}/{model.name}-train_dropout\n",
    "    \n",
    "    return trainTime, trainModelComplexity, validation_loss, accuracy\n",
    "\n",
    "def train_batchnorm(model, train_loader, validation_loader, loss_fn, optimizer, epochs, typeTrain=\"\"):\n",
    "    device = torch.device(\"cuda:0\" if torch.cuda.is_available() else \"cpu\")\n",
    "    model = model.to(device)\n",
    "    loss_fn = loss_fn.to(device)\n",
    "    \n",
    "    # Clear any logs from previous runs\n",
    "    if os.path.exists(f\"/tmp/logs/deepLearning/{model.name}-train_batchnorm\"):\n",
    "        shutil.rmtree(f\"/tmp/logs/deepLearning/{model.name}-train_batchnorm\")\n",
    "\n",
    "    # On créé un writer avec la date du modèle pour s'y retrouver\n",
    "    TB_PATH = f\"/tmp/logs/deepLearning\"\n",
    "    MODEL_PATH = \"/tmp/models/\"\n",
    "    os.makedirs(MODEL_PATH, exist_ok=True)\n",
    "    check_file = f\"{MODEL_PATH}/{model.name}-train_batchnorm-{typeTrain}.pth\"\n",
    "\n",
    "    summary = SummaryWriter(f\"{TB_PATH}/{model.name}-train_batchnorm\")\n",
    "\n",
    "    train_losses = []\n",
    "    validation_losses = []\n",
    "    accuraciesOfValidation = []\n",
    "    accuraciesOfTrain = []\n",
    "\n",
    "    start_epoch = load_state(check_file, model, optimizer)\n",
    "    \n",
    "    start_time = time.time()\n",
    "    for epoch in range(start_epoch, epochs+1):\n",
    "        # Entraînement sur les données d'entraînement\n",
    "        model.train()\n",
    "        train_loss = 0.0\n",
    "        correct = 0\n",
    "        total = 0\n",
    "        for inputs, targets in train_loader:\n",
    "            inputs, targets = inputs.to(device), targets.to(device)\n",
    "            optimizer.zero_grad()\n",
    "            outputs = model(inputs)\n",
    "            _, predicted = torch.max(outputs.data, 1)\n",
    "            total += targets.size(0)\n",
    "            correct += (predicted == targets).sum().item()\n",
    "            loss = loss_fn(outputs, targets)\n",
    "            loss.backward()\n",
    "            optimizer.step()\n",
    "            train_loss += loss.item()\n",
    "        \n",
    "        accuracy = correct / total\n",
    "        accuraciesOfTrain.append(accuracy)\n",
    "        summary.add_scalar(\"Accuracy_Of_Train\", accuracy, epoch)\n",
    "        summary.add_scalar(\"Loss_Of_Train\", train_loss/len(train_loader), epoch)\n",
    "        train_losses.append(train_loss/len(train_loader))\n",
    "\n",
    "        if epoch % 10 == 0: \n",
    "            # Evaluation sur les données de test\n",
    "            model.eval()\n",
    "            with torch.no_grad():\n",
    "                validation_loss = 0\n",
    "                correct = 0\n",
    "                total = 0\n",
    "                for inputs, labels in validation_loader:\n",
    "                    inputs, labels = inputs.to(device), labels.to(device)\n",
    "                    outputs = model(inputs)\n",
    "                    _, predicted = torch.max(outputs.data, 1)\n",
    "                    total += labels.size(0)\n",
    "                    correct += (predicted == labels).sum().item()\n",
    "                    validation_loss += loss_fn(outputs, labels).item()\n",
    "            \n",
    "            accuracy = correct / total\n",
    "            accuraciesOfValidation.append(accuracy)\n",
    "            summary.add_scalar(\"Accuracy\", accuracy, epoch)\n",
    "            summary.add_scalar(\"Loss_Of_Validation\", validation_loss/len(validation_loader), epoch)\n",
    "            validation_losses.append(validation_loss/len(validation_loader))\n",
    "\n",
    "            print(\"\\tEpoch {}, Validation Loss: {:.4f}, Validation Accuracy: {:.4f}\".format(epoch, validation_loss, accuracy))\n",
    "        else:\n",
    "            print(\"Epoch {}, Train Loss: {:.4f}, Train Accuracy: {:.4f}\".format(epoch, train_loss/len(train_loader), accuracy))\n",
    "    end_time = time.time()\n",
    "    trainTime = end_time - start_time\n",
    "    \n",
    "    trainModelComplexity = sum(p.numel() for p in model.parameters() if p.requires_grad)\n",
    "    \n",
    "    plt.figure\n",
    "    plt.plot(train_losses)\n",
    "    plt.title('Train Loss')\n",
    "    plt.xlabel('Epoch')\n",
    "    plt.ylabel('Loss')\n",
    "    plt.show()\n",
    "    \n",
    "    plt.figure()\n",
    "    plt.plot(accuraciesOfTrain)\n",
    "    plt.title('Train Accuracy')\n",
    "    plt.xlabel('Epoch')\n",
    "    plt.ylabel('Loss')\n",
    "    plt.show()\n",
    "    \n",
    "    plt.figure()\n",
    "    plt.plot(validation_losses)\n",
    "    plt.title('Validation Loss')\n",
    "    plt.xlabel('Epoch')\n",
    "    plt.ylabel('Loss')\n",
    "    plt.show()\n",
    "    \n",
    "    plt.figure()\n",
    "    plt.plot(accuraciesOfValidation)\n",
    "    plt.title('Validation Accuracy')\n",
    "    plt.xlabel('Epoch')\n",
    "    plt.ylabel('Loss')\n",
    "    plt.show()\n",
    "    \n",
    "    # Load the TensorBoard notebook extension\n",
    "    %load_ext tensorboard\n",
    "    %tensorboard --logdir {TB_PATH}/{model.name}-train_batchnorm\n",
    "    \n",
    "    return trainTime, trainModelComplexity, validation_loss, accuracy\n",
    "\n",
    "\n",
    "# requiert que les modules soient enregistrés dans une liste model.hidden_layers\n",
    "def addWeightsHisto(writer, model, epoch):                \n",
    "    ix = 0\n",
    "    for module in model.hidden_layers:\n",
    "        if isinstance(module, nn.Linear):\n",
    "            writer.add_histogram(f'Linear/{ix}/weight', module.weight, epoch)\n",
    "            ix += 1"
   ]
  },
  {
   "cell_type": "markdown",
   "id": "aaf5c44f-3818-4c85-8c88-ac07df5d96a6",
   "metadata": {},
   "source": [
    "# Déclaration des class"
   ]
  },
  {
   "cell_type": "code",
   "execution_count": 4,
   "id": "979f117d-587b-4d3f-afea-d25449911d97",
   "metadata": {
    "tags": []
   },
   "outputs": [],
   "source": [
    "class LinearMultiClass(nn.Module):\n",
    "    def __init__(self, in_size, out_size, hidden_layers, final_activation=None, activation=nn.Tanh()):\n",
    "        super(LinearMultiClass, self).__init__()\n",
    "        self.name = \"Linear_Multi_Class\"\n",
    "        self.in_size = in_size\n",
    "        self.hidden_layers = nn.ModuleList()\n",
    "        self.output_layer = nn.Linear(hidden_layers[-1], out_size)\n",
    "        self.final_activation = final_activation\n",
    "        self.activation = activation\n",
    "        \n",
    "        for i, h in enumerate(hidden_layers):\n",
    "            self.hidden_layers.append(nn.Linear(in_size if i == 0 else hidden_layers[i-1], h))\n",
    "\n",
    "    def forward(self, x):\n",
    "        x = x.view(-1, self.in_size)\n",
    "        for i, layer in enumerate(self.hidden_layers):\n",
    "            x = layer(x)\n",
    "            x = self.activation(x)\n",
    "\n",
    "        x = self.output_layer(x)\n",
    "        if self.final_activation is not None:\n",
    "            x = self.final_activation(x)\n",
    "        return x\n",
    "\n",
    "class LinearMultiClassWithDropout(nn.Module):\n",
    "    def __init__(self, in_size, out_size, hidden_layers, dropout_rate=0.5, final_activation=None, activation=nn.Tanh()):\n",
    "        super(LinearMultiClassWithDropout, self).__init__()\n",
    "        self.name = \"Linear_Multi_Class_With_Dropout\"\n",
    "        self.in_size = in_size\n",
    "        self.hidden_layers = nn.ModuleList()\n",
    "        self.dropout_layers = nn.ModuleList()\n",
    "        self.dropout_rate = dropout_rate\n",
    "        self.output_layer = nn.Linear(hidden_layers[-1], out_size)\n",
    "        self.final_activation = final_activation\n",
    "        self.activation = activation\n",
    "        \n",
    "        for i, h in enumerate(hidden_layers):\n",
    "            self.hidden_layers.append(nn.Linear(in_size if i == 0 else hidden_layers[i-1], h))\n",
    "            self.dropout_layers.append(nn.Dropout(p=self.dropout_rate))\n",
    "\n",
    "    def forward(self, x):\n",
    "        x = x.view(-1, self.in_size)\n",
    "        for i, layer in enumerate(self.hidden_layers):\n",
    "            x = layer(x)\n",
    "            x = self.activation(x)\n",
    "            x = self.dropout_layers[i](x)\n",
    "\n",
    "        x = self.output_layer(x)\n",
    "        if self.final_activation is not None:\n",
    "            x = self.final_activation(x)\n",
    "        return x\n",
    "\n",
    "class LinearMultiClassWithBatchNorm(nn.Module):\n",
    "    def __init__(self, in_size, out_size, hidden_layers, final_activation=None, activation=nn.Tanh()):\n",
    "        super(LinearMultiClassWithBatchNorm, self).__init__()\n",
    "        self.name = \"Linear_Multi_Class_With_BatchNorm\"\n",
    "        self.in_size = in_size\n",
    "        self.hidden_layers = nn.ModuleList()\n",
    "        self.batch_norm_layers = nn.ModuleList()\n",
    "        self.output_layer = nn.Linear(hidden_layers[-1], out_size)\n",
    "        self.final_activation = final_activation\n",
    "        self.activation = activation\n",
    "        \n",
    "        for i, h in enumerate(hidden_layers):\n",
    "            self.hidden_layers.append(nn.Linear(in_size if i == 0 else hidden_layers[i-1], h))\n",
    "            self.batch_norm_layers.append(nn.BatchNorm1d(h))\n",
    "\n",
    "    def forward(self, x):\n",
    "        x = x.view(-1, self.in_size)\n",
    "        for i, layer in enumerate(self.hidden_layers):\n",
    "            x = layer(x)\n",
    "            x = self.batch_norm_layers[i](x)\n",
    "            x = self.activation(x)\n",
    "\n",
    "        x = self.output_layer(x)\n",
    "        if self.final_activation is not None:\n",
    "            x = self.final_activation(x)\n",
    "        return x\n"
   ]
  },
  {
   "cell_type": "markdown",
   "id": "2d130b0a-5a3c-47f9-ad4b-b2f61ded27be",
   "metadata": {},
   "source": [
    "# Déclaration des données du projet"
   ]
  },
  {
   "cell_type": "code",
   "execution_count": 5,
   "id": "3a945583-a2cd-4cb6-b748-41f7bf49a44e",
   "metadata": {
    "tags": []
   },
   "outputs": [],
   "source": [
    "#Transformations à appliquer sur le dataset (transformation des images en tenseurs et normalization pour obtenir des valeurs entre -1 et 1)\n",
    "mean = [0.5]\n",
    "std = [0.5]\n",
    "transform = transforms.Compose([\n",
    "    transforms.ToTensor(),\n",
    "    transforms.Normalize(mean, std)\n",
    "])\n",
    "\n",
    "# Téléchargement des données (via le dataset specifique MNIST de pytorch)\n",
    "mnist_train = MNIST('./data', train=True, transform=transform, download=True)\n",
    "mnist_test = MNIST('./data', train=False, transform=transform, download=True)\n",
    "\n",
    "batch_size = 64\n",
    "train_loader = DataLoader(mnist_train, batch_size=batch_size, shuffle=True)\n",
    "validation_loader = DataLoader(mnist_test, batch_size=batch_size)\n",
    "\n",
    "TB_PATH = f\"/tmp/logs/deepLearning\"\n",
    "epoch = 100\n",
    "\n",
    "in_size = 784\n",
    "out_size = 10\n",
    "hidden_layers = [100, 100, 100]"
   ]
  },
  {
   "cell_type": "markdown",
   "id": "cc3bb940-647b-4091-b68f-fd75bae6fd40",
   "metadata": {},
   "source": [
    "# Récuperation d'une image de notre batch de données"
   ]
  },
  {
   "cell_type": "code",
   "execution_count": 6,
   "id": "844b8512-a9a2-408e-aca2-ae67796c9fba",
   "metadata": {
    "tags": []
   },
   "outputs": [
    {
     "data": {
      "text/plain": [
       "<matplotlib.image.AxesImage at 0x7f053c505790>"
      ]
     },
     "execution_count": 6,
     "metadata": {},
     "output_type": "execute_result"
    },
    {
     "data": {
      "image/png": "[encoded data removed]",
      "text/plain": [
       "<Figure size 576x576 with 1 Axes>"
      ]
     },
     "metadata": {
      "needs_background": "light"
     },
     "output_type": "display_data"
    }
   ],
   "source": [
    "imgs,labs = next(iter(train_loader))\n",
    "\n",
    "# dimension of images (flattened)reload_ext tensorboard\n",
    "HEIGHT,WIDTH = imgs.shape[2], imgs.shape[3] # taille de l'image\n",
    "INPUT_DIM = HEIGHT * WIDTH\n",
    "\n",
    "#Visualisation de la première image\n",
    "img = unnormalize(imgs[0], mean, std) # pour retrouver l'image d'origine (avant normalisation)\n",
    "fig = plt.figure(figsize=(8, 8))\n",
    "\n",
    "plt.imshow(img.squeeze(),cmap='Greys_r')"
   ]
  },
  {
   "cell_type": "markdown",
   "id": "6ebbe3da-66a4-45c8-8b14-3bdcc19d9be7",
   "metadata": {},
   "source": [
    "# Construction et Entrainement des modèles"
   ]
  },
  {
   "cell_type": "markdown",
   "id": "5f408405-1d30-415b-8ff1-d9faa8047265",
   "metadata": {
    "tags": []
   },
   "source": [
    "## Modèle LinearMultiClass"
   ]
  },
  {
   "cell_type": "markdown",
   "id": "8978b1ca-dd14-4764-a841-a920026cc10e",
   "metadata": {
    "tags": []
   },
   "source": [
    "### Avec activation = nn.Tanh"
   ]
  },
  {
   "cell_type": "code",
   "execution_count": 7,
   "id": "a29ba835-b4cf-4324-bdf2-32bb19d44335",
   "metadata": {
    "tags": []
   },
   "outputs": [
    {
     "name": "stdout",
     "output_type": "stream",
     "text": [
      "\tEpoch 0, Validation Loss: 186.9433, Validation Accuracy: 0.7991\n",
      "Epoch 1, Train Loss: 0.9444, Train Accuracy: 0.8276\n",
      "Epoch 2, Train Loss: 0.6519, Train Accuracy: 0.8653\n",
      "Epoch 3, Train Loss: 0.5155, Train Accuracy: 0.8827\n",
      "Epoch 4, Train Loss: 0.4402, Train Accuracy: 0.8912\n",
      "Epoch 5, Train Loss: 0.3934, Train Accuracy: 0.8982\n",
      "Epoch 6, Train Loss: 0.3617, Train Accuracy: 0.9030\n",
      "Epoch 7, Train Loss: 0.3388, Train Accuracy: 0.9073\n",
      "Epoch 8, Train Loss: 0.3213, Train Accuracy: 0.9109\n",
      "Epoch 9, Train Loss: 0.3069, Train Accuracy: 0.9136\n",
      "\tEpoch 10, Validation Loss: 44.2296, Validation Accuracy: 0.9208\n",
      "Epoch 11, Train Loss: 0.2851, Train Accuracy: 0.9184\n",
      "Epoch 12, Train Loss: 0.2761, Train Accuracy: 0.9207\n",
      "Epoch 13, Train Loss: 0.2679, Train Accuracy: 0.9231\n",
      "Epoch 14, Train Loss: 0.2605, Train Accuracy: 0.9248\n",
      "Epoch 15, Train Loss: 0.2535, Train Accuracy: 0.9267\n",
      "Epoch 16, Train Loss: 0.2472, Train Accuracy: 0.9282\n",
      "Epoch 17, Train Loss: 0.2410, Train Accuracy: 0.9303\n",
      "Epoch 18, Train Loss: 0.2352, Train Accuracy: 0.9319\n",
      "Epoch 19, Train Loss: 0.2298, Train Accuracy: 0.9342\n",
      "\tEpoch 20, Validation Loss: 34.6942, Validation Accuracy: 0.9364\n",
      "Epoch 21, Train Loss: 0.2192, Train Accuracy: 0.9365\n",
      "Epoch 22, Train Loss: 0.2142, Train Accuracy: 0.9385\n",
      "Epoch 23, Train Loss: 0.2095, Train Accuracy: 0.9396\n",
      "Epoch 24, Train Loss: 0.2046, Train Accuracy: 0.9408\n",
      "Epoch 25, Train Loss: 0.2001, Train Accuracy: 0.9422\n",
      "Epoch 26, Train Loss: 0.1957, Train Accuracy: 0.9439\n",
      "Epoch 27, Train Loss: 0.1915, Train Accuracy: 0.9451\n",
      "Epoch 28, Train Loss: 0.1871, Train Accuracy: 0.9465\n",
      "Epoch 29, Train Loss: 0.1831, Train Accuracy: 0.9479\n",
      "\tEpoch 30, Validation Loss: 28.1688, Validation Accuracy: 0.9480\n",
      "Epoch 31, Train Loss: 0.1754, Train Accuracy: 0.9498\n",
      "Epoch 32, Train Loss: 0.1715, Train Accuracy: 0.9511\n",
      "Epoch 33, Train Loss: 0.1678, Train Accuracy: 0.9519\n",
      "Epoch 34, Train Loss: 0.1643, Train Accuracy: 0.9530\n",
      "Epoch 35, Train Loss: 0.1608, Train Accuracy: 0.9542\n",
      "Epoch 36, Train Loss: 0.1573, Train Accuracy: 0.9550\n",
      "Epoch 37, Train Loss: 0.1542, Train Accuracy: 0.9560\n",
      "Epoch 38, Train Loss: 0.1508, Train Accuracy: 0.9569\n",
      "Epoch 39, Train Loss: 0.1477, Train Accuracy: 0.9579\n",
      "\tEpoch 40, Validation Loss: 23.4294, Validation Accuracy: 0.9564\n",
      "Epoch 41, Train Loss: 0.1417, Train Accuracy: 0.9595\n",
      "Epoch 42, Train Loss: 0.1389, Train Accuracy: 0.9601\n",
      "Epoch 43, Train Loss: 0.1360, Train Accuracy: 0.9609\n",
      "Epoch 44, Train Loss: 0.1335, Train Accuracy: 0.9621\n",
      "Epoch 45, Train Loss: 0.1307, Train Accuracy: 0.9627\n",
      "Epoch 46, Train Loss: 0.1281, Train Accuracy: 0.9637\n",
      "Epoch 47, Train Loss: 0.1255, Train Accuracy: 0.9645\n",
      "Epoch 48, Train Loss: 0.1231, Train Accuracy: 0.9657\n",
      "Epoch 49, Train Loss: 0.1208, Train Accuracy: 0.9661\n",
      "\tEpoch 50, Validation Loss: 19.8350, Validation Accuracy: 0.9634\n",
      "Epoch 51, Train Loss: 0.1162, Train Accuracy: 0.9670\n",
      "Epoch 52, Train Loss: 0.1140, Train Accuracy: 0.9680\n",
      "Epoch 53, Train Loss: 0.1118, Train Accuracy: 0.9687\n",
      "Epoch 54, Train Loss: 0.1098, Train Accuracy: 0.9692\n",
      "Epoch 55, Train Loss: 0.1079, Train Accuracy: 0.9700\n",
      "Epoch 56, Train Loss: 0.1060, Train Accuracy: 0.9703\n",
      "Epoch 57, Train Loss: 0.1040, Train Accuracy: 0.9711\n",
      "Epoch 58, Train Loss: 0.1024, Train Accuracy: 0.9715\n",
      "Epoch 59, Train Loss: 0.1003, Train Accuracy: 0.9720\n",
      "\tEpoch 60, Validation Loss: 17.4155, Validation Accuracy: 0.9668\n",
      "Epoch 61, Train Loss: 0.0967, Train Accuracy: 0.9729\n",
      "Epoch 62, Train Loss: 0.0950, Train Accuracy: 0.9736\n",
      "Epoch 63, Train Loss: 0.0933, Train Accuracy: 0.9741\n",
      "Epoch 64, Train Loss: 0.0916, Train Accuracy: 0.9749\n",
      "Epoch 65, Train Loss: 0.0901, Train Accuracy: 0.9751\n",
      "Epoch 66, Train Loss: 0.0885, Train Accuracy: 0.9755\n",
      "Epoch 67, Train Loss: 0.0871, Train Accuracy: 0.9764\n",
      "Epoch 68, Train Loss: 0.0856, Train Accuracy: 0.9766\n",
      "Epoch 69, Train Loss: 0.0841, Train Accuracy: 0.9772\n",
      "\tEpoch 70, Validation Loss: 15.7452, Validation Accuracy: 0.9702\n",
      "Epoch 71, Train Loss: 0.0812, Train Accuracy: 0.9776\n",
      "Epoch 72, Train Loss: 0.0799, Train Accuracy: 0.9783\n",
      "Epoch 73, Train Loss: 0.0786, Train Accuracy: 0.9785\n",
      "Epoch 74, Train Loss: 0.0774, Train Accuracy: 0.9788\n",
      "Epoch 75, Train Loss: 0.0759, Train Accuracy: 0.9792\n",
      "Epoch 76, Train Loss: 0.0748, Train Accuracy: 0.9794\n",
      "Epoch 77, Train Loss: 0.0735, Train Accuracy: 0.9801\n",
      "Epoch 78, Train Loss: 0.0724, Train Accuracy: 0.9806\n",
      "Epoch 79, Train Loss: 0.0711, Train Accuracy: 0.9806\n",
      "\tEpoch 80, Validation Loss: 14.2344, Validation Accuracy: 0.9722\n",
      "Epoch 81, Train Loss: 0.0687, Train Accuracy: 0.9813\n",
      "Epoch 82, Train Loss: 0.0677, Train Accuracy: 0.9817\n",
      "Epoch 83, Train Loss: 0.0666, Train Accuracy: 0.9822\n",
      "Epoch 84, Train Loss: 0.0656, Train Accuracy: 0.9823\n",
      "Epoch 85, Train Loss: 0.0645, Train Accuracy: 0.9827\n",
      "Epoch 86, Train Loss: 0.0633, Train Accuracy: 0.9830\n",
      "Epoch 87, Train Loss: 0.0624, Train Accuracy: 0.9831\n",
      "Epoch 88, Train Loss: 0.0613, Train Accuracy: 0.9835\n",
      "Epoch 89, Train Loss: 0.0606, Train Accuracy: 0.9839\n",
      "\tEpoch 90, Validation Loss: 13.0480, Validation Accuracy: 0.9744\n",
      "Epoch 91, Train Loss: 0.0584, Train Accuracy: 0.9846\n",
      "Epoch 92, Train Loss: 0.0575, Train Accuracy: 0.9845\n",
      "Epoch 93, Train Loss: 0.0568, Train Accuracy: 0.9849\n",
      "Epoch 94, Train Loss: 0.0557, Train Accuracy: 0.9855\n",
      "Epoch 95, Train Loss: 0.0548, Train Accuracy: 0.9857\n",
      "Epoch 96, Train Loss: 0.0540, Train Accuracy: 0.9858\n",
      "Epoch 97, Train Loss: 0.0531, Train Accuracy: 0.9863\n",
      "Epoch 98, Train Loss: 0.0523, Train Accuracy: 0.9867\n",
      "Epoch 99, Train Loss: 0.0514, Train Accuracy: 0.9866\n",
      "\tEpoch 100, Validation Loss: 12.2437, Validation Accuracy: 0.9750\n"
     ]
    },
    {
     "data": {
      "image/png": "[encoded data removed]",
      "text/plain": [
       "<Figure size 432x288 with 1 Axes>"
      ]
     },
     "metadata": {
      "needs_background": "light"
     },
     "output_type": "display_data"
    },
    {
     "data": {
      "image/png": "[encoded data removed]",
      "text/plain": [
       "<Figure size 432x288 with 1 Axes>"
      ]
     },
     "metadata": {
      "needs_background": "light"
     },
     "output_type": "display_data"
    },
    {
     "data": {
      "image/png": "[encoded data removed]",
      "text/plain": [
       "<Figure size 432x288 with 1 Axes>"
      ]
     },
     "metadata": {
      "needs_background": "light"
     },
     "output_type": "display_data"
    },
    {
     "data": {
      "image/png": "[encoded data removed]",
      "text/plain": [
       "<Figure size 432x288 with 1 Axes>"
      ]
     },
     "metadata": {
      "needs_background": "light"
     },
     "output_type": "display_data"
    },
    {
     "data": {
      "text/html": [
       "\n",
       "      <iframe id=\"tensorboard-frame-b549da66cb00d860\" width=\"100%\" height=\"800\" frameborder=\"0\">\n",
       "      </iframe>\n",
       "      <script>\n",
       "        (function() {\n",
       "          const frame = document.getElementById(\"tensorboard-frame-b549da66cb00d860\");\n",
       "          const url = new URL(\"/\", window.location);\n",
       "          const port = 6006;\n",
       "          if (port) {\n",
       "            url.port = port;\n",
       "          }\n",
       "          frame.src = url;\n",
       "        })();\n",
       "      </script>\n",
       "    "
      ],
      "text/plain": [
       "<IPython.core.display.HTML object>"
      ]
     },
     "metadata": {},
     "output_type": "display_data"
    }
   ],
   "source": [
    "# Définir le modèle, la fonction de coût, et l'optimiseur\n",
    "model = LinearMultiClass(in_size=784, out_size=10, hidden_layers=[256, 128], activation=nn.Tanh())\n",
    "loss_fn = nn.CrossEntropyLoss()\n",
    "optimizer = torch.optim.Adam(params=model.parameters(),lr=1e-5)\n",
    "\n",
    "# Entraîner le modèle\n",
    "model1ExecutionTimeTanhAdam, model1ComplexityTanhAdam, model1ValidationLossTanhAdam, model1AccuracyTanhAdam = train(model, train_loader, validation_loader, loss_fn, optimizer, epochs=100, typeTrain=\"Tanh-Adam\")"
   ]
  },
  {
   "cell_type": "code",
   "execution_count": 9,
   "id": "a7e76cf6-b48e-4fcd-ba9c-ded5f5be1a06",
   "metadata": {
    "tags": []
   },
   "outputs": [
    {
     "name": "stdout",
     "output_type": "stream",
     "text": [
      "\tEpoch 90, Validation Loss: 294.7635, Validation Accuracy: 0.6573\n",
      "Epoch 91, Train Loss: 1.8835, Train Accuracy: 0.6466\n",
      "Epoch 92, Train Loss: 1.8784, Train Accuracy: 0.6481\n",
      "Epoch 93, Train Loss: 1.8732, Train Accuracy: 0.6495\n",
      "Epoch 94, Train Loss: 1.8680, Train Accuracy: 0.6506\n",
      "Epoch 95, Train Loss: 1.8629, Train Accuracy: 0.6522\n",
      "Epoch 96, Train Loss: 1.8577, Train Accuracy: 0.6536\n",
      "Epoch 97, Train Loss: 1.8525, Train Accuracy: 0.6551\n",
      "Epoch 98, Train Loss: 1.8473, Train Accuracy: 0.6564\n",
      "Epoch 99, Train Loss: 1.8421, Train Accuracy: 0.6574\n",
      "\tEpoch 100, Validation Loss: 286.4953, Validation Accuracy: 0.6704\n"
     ]
    },
    {
     "data": {
      "image/png": "[encoded data removed]",
      "text/plain": [
       "<Figure size 432x288 with 1 Axes>"
      ]
     },
     "metadata": {
      "needs_background": "light"
     },
     "output_type": "display_data"
    },
    {
     "data": {
      "image/png": "[encoded data removed]",
      "text/plain": [
       "<Figure size 432x288 with 1 Axes>"
      ]
     },
     "metadata": {
      "needs_background": "light"
     },
     "output_type": "display_data"
    },
    {
     "data": {
      "image/png": "[encoded data removed]",
      "text/plain": [
       "<Figure size 432x288 with 1 Axes>"
      ]
     },
     "metadata": {
      "needs_background": "light"
     },
     "output_type": "display_data"
    },
    {
     "data": {
      "image/png": "[encoded data removed]",
      "text/plain": [
       "<Figure size 432x288 with 1 Axes>"
      ]
     },
     "metadata": {
      "needs_background": "light"
     },
     "output_type": "display_data"
    },
    {
     "name": "stdout",
     "output_type": "stream",
     "text": [
      "The tensorboard extension is already loaded. To reload it, use:\n",
      "  %reload_ext tensorboard\n"
     ]
    },
    {
     "data": {
      "text/html": [
       "\n",
       "      <iframe id=\"tensorboard-frame-4a20d16fb41e2d3b\" width=\"100%\" height=\"800\" frameborder=\"0\">\n",
       "      </iframe>\n",
       "      <script>\n",
       "        (function() {\n",
       "          const frame = document.getElementById(\"tensorboard-frame-4a20d16fb41e2d3b\");\n",
       "          const url = new URL(\"/\", window.location);\n",
       "          const port = 6006;\n",
       "          if (port) {\n",
       "            url.port = port;\n",
       "          }\n",
       "          frame.src = url;\n",
       "        })();\n",
       "      </script>\n",
       "    "
      ],
      "text/plain": [
       "<IPython.core.display.HTML object>"
      ]
     },
     "metadata": {},
     "output_type": "display_data"
    }
   ],
   "source": [
    "# Définir le modèle, la fonction de coût, et l'optimiseur\n",
    "model = LinearMultiClass(in_size=784, out_size=10, hidden_layers=[256, 128], activation=nn.Tanh())\n",
    "loss_fn = nn.CrossEntropyLoss()\n",
    "optimizer = torch.optim.SGD(params=model.parameters(),lr=1e-5)\n",
    "\n",
    "# Entraîner le modèle\n",
    "model1ExecutionTimeTanhSGD, model1ComplexityTanhSGD, model1ValidationLossTanhSGD, model1AccuracyTanhSGD = train(model, train_loader, validation_loader, loss_fn, optimizer, epochs=100, typeTrain=\"Tanh-SGD\")"
   ]
  },
  {
   "cell_type": "markdown",
   "id": "76d29eb0-14e9-404c-9ce6-101d2068ae8d",
   "metadata": {},
   "source": [
    "### Avec activation = nn.ReLU"
   ]
  },
  {
   "cell_type": "code",
   "execution_count": 10,
   "id": "da7de67d-a99e-470f-b292-c25177873984",
   "metadata": {
    "tags": []
   },
   "outputs": [
    {
     "ename": "KeyboardInterrupt",
     "evalue": "",
     "output_type": "error",
     "traceback": [
      "\u001b[0;31m---------------------------------------------------------------------------\u001b[0m",
      "\u001b[0;31mKeyboardInterrupt\u001b[0m                         Traceback (most recent call last)",
      "\u001b[0;32m<ipython-input-10-79ff15edd46b>\u001b[0m in \u001b[0;36m<module>\u001b[0;34m\u001b[0m\n\u001b[1;32m      5\u001b[0m \u001b[0;34m\u001b[0m\u001b[0m\n\u001b[1;32m      6\u001b[0m \u001b[0;31m# Entraîner le modèle\u001b[0m\u001b[0;34m\u001b[0m\u001b[0;34m\u001b[0m\u001b[0;34m\u001b[0m\u001b[0m\n\u001b[0;32m----> 7\u001b[0;31m \u001b[0mmodel1ExecutionTimeTanhReLuAdam\u001b[0m\u001b[0;34m,\u001b[0m \u001b[0mmodel1ComplexityTanhReLuAdam\u001b[0m\u001b[0;34m,\u001b[0m \u001b[0mmodel1ValidationLossTanhReLuAdam\u001b[0m\u001b[0;34m,\u001b[0m \u001b[0mmodel1AccuracyTanhReLuAdam\u001b[0m \u001b[0;34m=\u001b[0m \u001b[0mtrain\u001b[0m\u001b[0;34m(\u001b[0m\u001b[0mmodel\u001b[0m\u001b[0;34m,\u001b[0m \u001b[0mtrain_loader\u001b[0m\u001b[0;34m,\u001b[0m \u001b[0mvalidation_loader\u001b[0m\u001b[0;34m,\u001b[0m \u001b[0mloss_fn\u001b[0m\u001b[0;34m,\u001b[0m \u001b[0moptimizer\u001b[0m\u001b[0;34m,\u001b[0m \u001b[0mepochs\u001b[0m\u001b[0;34m=\u001b[0m\u001b[0;36m100\u001b[0m\u001b[0;34m,\u001b[0m \u001b[0mtypeTrain\u001b[0m\u001b[0;34m=\u001b[0m\u001b[0;34m\"ReLU-Adam\"\u001b[0m\u001b[0;34m)\u001b[0m\u001b[0;34m\u001b[0m\u001b[0;34m\u001b[0m\u001b[0m\n\u001b[0m",
      "\u001b[0;32m<ipython-input-3-72cf5ce0fea2>\u001b[0m in \u001b[0;36mtrain\u001b[0;34m(model, train_loader, validation_loader, loss_fn, optimizer, epochs, typeTrain)\u001b[0m\n\u001b[1;32m     52\u001b[0m             \u001b[0minputs\u001b[0m\u001b[0;34m,\u001b[0m \u001b[0mtargets\u001b[0m \u001b[0;34m=\u001b[0m \u001b[0minputs\u001b[0m\u001b[0;34m.\u001b[0m\u001b[0mto\u001b[0m\u001b[0;34m(\u001b[0m\u001b[0mdevice\u001b[0m\u001b[0;34m)\u001b[0m\u001b[0;34m,\u001b[0m \u001b[0mtargets\u001b[0m\u001b[0;34m.\u001b[0m\u001b[0mto\u001b[0m\u001b[0;34m(\u001b[0m\u001b[0mdevice\u001b[0m\u001b[0;34m)\u001b[0m\u001b[0;34m\u001b[0m\u001b[0;34m\u001b[0m\u001b[0m\n\u001b[1;32m     53\u001b[0m             \u001b[0moptimizer\u001b[0m\u001b[0;34m.\u001b[0m\u001b[0mzero_grad\u001b[0m\u001b[0;34m(\u001b[0m\u001b[0;34m)\u001b[0m\u001b[0;34m\u001b[0m\u001b[0;34m\u001b[0m\u001b[0m\n\u001b[0;32m---> 54\u001b[0;31m             \u001b[0moutputs\u001b[0m \u001b[0;34m=\u001b[0m \u001b[0mmodel\u001b[0m\u001b[0;34m(\u001b[0m\u001b[0minputs\u001b[0m\u001b[0;34m)\u001b[0m\u001b[0;34m\u001b[0m\u001b[0;34m\u001b[0m\u001b[0m\n\u001b[0m\u001b[1;32m     55\u001b[0m             \u001b[0m_\u001b[0m\u001b[0;34m,\u001b[0m \u001b[0mpredicted\u001b[0m \u001b[0;34m=\u001b[0m \u001b[0mtorch\u001b[0m\u001b[0;34m.\u001b[0m\u001b[0mmax\u001b[0m\u001b[0;34m(\u001b[0m\u001b[0moutputs\u001b[0m\u001b[0;34m.\u001b[0m\u001b[0mdata\u001b[0m\u001b[0;34m,\u001b[0m \u001b[0;36m1\u001b[0m\u001b[0;34m)\u001b[0m\u001b[0;34m\u001b[0m\u001b[0;34m\u001b[0m\u001b[0m\n\u001b[1;32m     56\u001b[0m             \u001b[0mtotal\u001b[0m \u001b[0;34m+=\u001b[0m \u001b[0mtargets\u001b[0m\u001b[0;34m.\u001b[0m\u001b[0msize\u001b[0m\u001b[0;34m(\u001b[0m\u001b[0;36m0\u001b[0m\u001b[0;34m)\u001b[0m\u001b[0;34m\u001b[0m\u001b[0;34m\u001b[0m\u001b[0m\n",
      "\u001b[0;32m~/.local/lib/python3.9/site-packages/torch/nn/modules/module.py\u001b[0m in \u001b[0;36m_call_impl\u001b[0;34m(self, *input, **kwargs)\u001b[0m\n\u001b[1;32m   1192\u001b[0m         if not (self._backward_hooks or self._forward_hooks or self._forward_pre_hooks or _global_backward_hooks\n\u001b[1;32m   1193\u001b[0m                 or _global_forward_hooks or _global_forward_pre_hooks):\n\u001b[0;32m-> 1194\u001b[0;31m             \u001b[0;32mreturn\u001b[0m \u001b[0mforward_call\u001b[0m\u001b[0;34m(\u001b[0m\u001b[0;34m*\u001b[0m\u001b[0minput\u001b[0m\u001b[0;34m,\u001b[0m \u001b[0;34m**\u001b[0m\u001b[0mkwargs\u001b[0m\u001b[0;34m)\u001b[0m\u001b[0;34m\u001b[0m\u001b[0;34m\u001b[0m\u001b[0m\n\u001b[0m\u001b[1;32m   1195\u001b[0m         \u001b[0;31m# Do not call functions when jit is used\u001b[0m\u001b[0;34m\u001b[0m\u001b[0;34m\u001b[0m\u001b[0;34m\u001b[0m\u001b[0m\n\u001b[1;32m   1196\u001b[0m         \u001b[0mfull_backward_hooks\u001b[0m\u001b[0;34m,\u001b[0m \u001b[0mnon_full_backward_hooks\u001b[0m \u001b[0;34m=\u001b[0m \u001b[0;34m[\u001b[0m\u001b[0;34m]\u001b[0m\u001b[0;34m,\u001b[0m \u001b[0;34m[\u001b[0m\u001b[0;34m]\u001b[0m\u001b[0;34m\u001b[0m\u001b[0;34m\u001b[0m\u001b[0m\n",
      "\u001b[0;32m<ipython-input-4-8096a4ae721a>\u001b[0m in \u001b[0;36mforward\u001b[0;34m(self, x)\u001b[0m\n\u001b[1;32m     18\u001b[0m             \u001b[0mx\u001b[0m \u001b[0;34m=\u001b[0m \u001b[0mself\u001b[0m\u001b[0;34m.\u001b[0m\u001b[0mactivation\u001b[0m\u001b[0;34m(\u001b[0m\u001b[0mx\u001b[0m\u001b[0;34m)\u001b[0m\u001b[0;34m\u001b[0m\u001b[0;34m\u001b[0m\u001b[0m\n\u001b[1;32m     19\u001b[0m \u001b[0;34m\u001b[0m\u001b[0m\n\u001b[0;32m---> 20\u001b[0;31m         \u001b[0mx\u001b[0m \u001b[0;34m=\u001b[0m \u001b[0mself\u001b[0m\u001b[0;34m.\u001b[0m\u001b[0moutput_layer\u001b[0m\u001b[0;34m(\u001b[0m\u001b[0mx\u001b[0m\u001b[0;34m)\u001b[0m\u001b[0;34m\u001b[0m\u001b[0;34m\u001b[0m\u001b[0m\n\u001b[0m\u001b[1;32m     21\u001b[0m         \u001b[0;32mif\u001b[0m \u001b[0mself\u001b[0m\u001b[0;34m.\u001b[0m\u001b[0mfinal_activation\u001b[0m \u001b[0;32mis\u001b[0m \u001b[0;32mnot\u001b[0m \u001b[0;32mNone\u001b[0m\u001b[0;34m:\u001b[0m\u001b[0;34m\u001b[0m\u001b[0;34m\u001b[0m\u001b[0m\n\u001b[1;32m     22\u001b[0m             \u001b[0mx\u001b[0m \u001b[0;34m=\u001b[0m \u001b[0mself\u001b[0m\u001b[0;34m.\u001b[0m\u001b[0mfinal_activation\u001b[0m\u001b[0;34m(\u001b[0m\u001b[0mx\u001b[0m\u001b[0;34m)\u001b[0m\u001b[0;34m\u001b[0m\u001b[0;34m\u001b[0m\u001b[0m\n",
      "\u001b[0;32m~/.local/lib/python3.9/site-packages/torch/nn/modules/module.py\u001b[0m in \u001b[0;36m_call_impl\u001b[0;34m(self, *input, **kwargs)\u001b[0m\n\u001b[1;32m   1192\u001b[0m         if not (self._backward_hooks or self._forward_hooks or self._forward_pre_hooks or _global_backward_hooks\n\u001b[1;32m   1193\u001b[0m                 or _global_forward_hooks or _global_forward_pre_hooks):\n\u001b[0;32m-> 1194\u001b[0;31m             \u001b[0;32mreturn\u001b[0m \u001b[0mforward_call\u001b[0m\u001b[0;34m(\u001b[0m\u001b[0;34m*\u001b[0m\u001b[0minput\u001b[0m\u001b[0;34m,\u001b[0m \u001b[0;34m**\u001b[0m\u001b[0mkwargs\u001b[0m\u001b[0;34m)\u001b[0m\u001b[0;34m\u001b[0m\u001b[0;34m\u001b[0m\u001b[0m\n\u001b[0m\u001b[1;32m   1195\u001b[0m         \u001b[0;31m# Do not call functions when jit is used\u001b[0m\u001b[0;34m\u001b[0m\u001b[0;34m\u001b[0m\u001b[0;34m\u001b[0m\u001b[0m\n\u001b[1;32m   1196\u001b[0m         \u001b[0mfull_backward_hooks\u001b[0m\u001b[0;34m,\u001b[0m \u001b[0mnon_full_backward_hooks\u001b[0m \u001b[0;34m=\u001b[0m \u001b[0;34m[\u001b[0m\u001b[0;34m]\u001b[0m\u001b[0;34m,\u001b[0m \u001b[0;34m[\u001b[0m\u001b[0;34m]\u001b[0m\u001b[0;34m\u001b[0m\u001b[0;34m\u001b[0m\u001b[0m\n",
      "\u001b[0;32m~/.local/lib/python3.9/site-packages/torch/nn/modules/linear.py\u001b[0m in \u001b[0;36mforward\u001b[0;34m(self, input)\u001b[0m\n\u001b[1;32m    112\u001b[0m \u001b[0;34m\u001b[0m\u001b[0m\n\u001b[1;32m    113\u001b[0m     \u001b[0;32mdef\u001b[0m \u001b[0mforward\u001b[0m\u001b[0;34m(\u001b[0m\u001b[0mself\u001b[0m\u001b[0;34m,\u001b[0m \u001b[0minput\u001b[0m\u001b[0;34m:\u001b[0m \u001b[0mTensor\u001b[0m\u001b[0;34m)\u001b[0m \u001b[0;34m->\u001b[0m \u001b[0mTensor\u001b[0m\u001b[0;34m:\u001b[0m\u001b[0;34m\u001b[0m\u001b[0;34m\u001b[0m\u001b[0m\n\u001b[0;32m--> 114\u001b[0;31m         \u001b[0;32mreturn\u001b[0m \u001b[0mF\u001b[0m\u001b[0;34m.\u001b[0m\u001b[0mlinear\u001b[0m\u001b[0;34m(\u001b[0m\u001b[0minput\u001b[0m\u001b[0;34m,\u001b[0m \u001b[0mself\u001b[0m\u001b[0;34m.\u001b[0m\u001b[0mweight\u001b[0m\u001b[0;34m,\u001b[0m \u001b[0mself\u001b[0m\u001b[0;34m.\u001b[0m\u001b[0mbias\u001b[0m\u001b[0;34m)\u001b[0m\u001b[0;34m\u001b[0m\u001b[0;34m\u001b[0m\u001b[0m\n\u001b[0m\u001b[1;32m    115\u001b[0m \u001b[0;34m\u001b[0m\u001b[0m\n\u001b[1;32m    116\u001b[0m     \u001b[0;32mdef\u001b[0m \u001b[0mextra_repr\u001b[0m\u001b[0;34m(\u001b[0m\u001b[0mself\u001b[0m\u001b[0;34m)\u001b[0m \u001b[0;34m->\u001b[0m \u001b[0mstr\u001b[0m\u001b[0;34m:\u001b[0m\u001b[0;34m\u001b[0m\u001b[0;34m\u001b[0m\u001b[0m\n",
      "\u001b[0;31mKeyboardInterrupt\u001b[0m: "
     ]
    }
   ],
   "source": [
    "# Définir le modèle, la fonction de coût, et l'optimiseur\n",
    "model = LinearMultiClass(in_size=784, out_size=10, hidden_layers=[256, 128], activation=nn.ReLU())\n",
    "loss_fn = nn.CrossEntropyLoss()\n",
    "optimizer = torch.optim.Adam(params=model.parameters(),lr=1e-5)\n",
    "\n",
    "# Entraîner le modèle\n",
    "model1ExecutionTimeTanhReLuAdam, model1ComplexityTanhReLuAdam, model1ValidationLossTanhReLuAdam, model1AccuracyTanhReLuAdam = train(model, train_loader, validation_loader, loss_fn, optimizer, epochs=100, typeTrain=\"ReLU-Adam\")"
   ]
  },
  {
   "cell_type": "code",
   "execution_count": null,
   "id": "d20877f1-4acc-4684-9ba1-57fecdd129da",
   "metadata": {
    "tags": []
   },
   "outputs": [],
   "source": [
    "# Définir le modèle, la fonction de coût, et l'optimiseur\n",
    "model = LinearMultiClass(in_size=784, out_size=10, hidden_layers=[256, 128], activation=nn.ReLU())\n",
    "loss_fn = nn.CrossEntropyLoss()\n",
    "optimizer = torch.optim.SGD(params=model.parameters(),lr=1e-5)\n",
    "\n",
    "# Entraîner le modèle\n",
    "model1ExecutionTimeTanhReLuSGD, model1ComplexityTanhReLuSGD, model1ValidationLossTanhReLuSGD, model1AccuracyTanhReLuSGD = train(model, train_loader, validation_loader, loss_fn, optimizer, epochs=100, typeTrain=\"ReLU-SGD\")"
   ]
  },
  {
   "cell_type": "markdown",
   "id": "1b337529-9a39-44f7-84c1-663bd129362c",
   "metadata": {},
   "source": [
    "### Comparaison entre l'activation (Tanh & ReLU)\n",
    "\n",
    "La fonction d'activation Tanh (hyperbolique tangente) est une fonction de transfert sigmoid qui convertit une entrée linéaire en une sortie centrée autour de zéro dans l'intervalle [-1, 1]. Elle est souvent utilisée dans les réseaux de neurones de couches cachées pour normaliser les sorties des neurones.\n",
    "\n",
    "La fonction d'activation ReLU (rectifiée linéaire) est une fonction de transfert non linéaire qui convertit toutes les entrées négatives en zéro. Il est utilisé pour résoudre le problème de décès du neurone, qui est un phénomène où les poids des neurones peuvent devenir négatifs et rester coincés à zéro.\n",
    "\n",
    "En général, ReLU est considéré comme étant plus rapide et plus efficace pour les modèles de réseaux de neurones en raison de sa simplicité et de la vitesse de convergence plus rapide qu'il offre comparé à Tanh. Cependant, ReLU peut aussi causer des problèmes de saturation des neurones, où de nombreux neurones peuvent devenir saturés et ne pas produire de sortie. Cela peut rendre difficile la convergence du modèle. Tanh peut éviter ce problème mais il peut être plus lent à converger.\n",
    "\n",
    "En fin de compte, le choix de la fonction d'activation dépend du modèle et des données sur lesquels vous travaillez et des performances que vous recherchez."
   ]
  },
  {
   "cell_type": "code",
   "execution_count": null,
   "id": "9600a4f0-5bb7-4809-912c-e686cc55c2d2",
   "metadata": {
    "tags": []
   },
   "outputs": [],
   "source": [
    "print (\"Model Linear Multi Class With Tanh (Adam): [\\n\\tTemps d'exécution:\", model1ExecutionTimeTanhAdam,\"\\n\\tComplexité:\", model1ComplexityTanhAdam, \"\\n\\tValidation Loss:\", model1ValidationLossTanhAdam, \"\\n\\tAccurancy:\", model1AccuracyTanhAdam, \"] \\n\")\n",
    "print (\"Model Linear Multi Class With Tanh (SGD): [\\n\\tTemps d'exécution:\", model1ExecutionTimeTanhSGD,\"\\n\\tComplexité:\", model1ComplexityTanhSGD, \"\\n\\tValidation Loss:\", model1ValidationLossTanhSGD, \"\\n\\tAccurancy:\", model1AccuracyTanhSGD, \"] \\n\")\n",
    "\n",
    "if model1ValidationLossTanhAdam <= model1ValidationLossTanhSGD:\n",
    "    print(\"\\n___________________________________________________\\nLe Modèle LinearMultiClass avec Tanh utilisant l'optimiseur (Adam) est le plus performant !\\n___________________________________________________\\n\")\n",
    "else:\n",
    "    print(\"\\n___________________________________________________\\nLe Modèle LinearMultiClass avec Tanh utilisant l'optimiseur (SGD) est le plus performant !\\n___________________________________________________\\n\")"
   ]
  },
  {
   "cell_type": "code",
   "execution_count": null,
   "id": "cac0b85d-c6e3-4d3a-8582-f5b7145ef97c",
   "metadata": {},
   "outputs": [],
   "source": [
    "print (\"Model Linear Multi Class With ReLU (Adam): [\\n\\tTemps d'exécution:\", model1ExecutionTimeTanhReLuAdam, \"\\n\\tComplexité:\", model1ComplexityTanhReLuAdam, \"\\n\\tValidation Loss:\", model1ValidationLossTanhReLuAdam, \"\\n\\tAccurancy:\", model1AccuracyTanhReLuAdam, \"] \\n\")\n",
    "print (\"Model Linear Multi Class With ReLU (SGD): [\\n\\tTemps d'exécution:\", model1ExecutionTimeTanhReLuSGD, \"\\n\\tComplexité:\", model1ComplexityTanhReLuSGD, \"\\n\\tValidation Loss:\", model1ValidationLossTanhReLuSGD, \"\\n\\tAccurancy:\", model1AccuracyTanhReLuSGD, \"] \\n\")\n",
    "\n",
    "if model1ValidationLossTanhReLuAdam <= model1ValidationLossTanhReLuSGD:\n",
    "    print(\"\\n___________________________________________________\\nLe Modèle LinearMultiClass avec ReLU utilisant l'optimiseur (Adam) est le plus performant !\\n___________________________________________________\\n\")\n",
    "else:\n",
    "    print(\"\\n___________________________________________________\\nLe Modèle LinearMultiClass avec ReLU utilisant l'optimiseur (SGD) est le plus performant !\\n___________________________________________________\\n\")"
   ]
  },
  {
   "cell_type": "code",
   "execution_count": null,
   "id": "b61dcfac-24b8-47a2-b4a8-c9e5ff4ce156",
   "metadata": {
    "tags": []
   },
   "outputs": [],
   "source": [
    "print (\"Model Linear Multi Class With Tanh (SGD): [\\n\\tTemps d'exécution:\", model1ExecutionTimeTanhSGD,\"\\n\\tComplexité:\", model1ComplexityTanhSGD, \"\\n\\tValidation Loss:\", model1ValidationLossTanhSGD, \"\\n\\tAccurancy:\", model1AccuracyTanhSGD, \"] \\n\")\n",
    "print (\"Model Linear Multi Class With ReLU (SGD): [\\n\\tTemps d'exécution:\", model1ExecutionTimeTanhReLuSGD, \"\\n\\tComplexité:\", model1ComplexityTanhReLuSGD, \"\\n\\tValidation Loss:\", model1ValidationLossTanhReLuSGD, \"\\n\\tAccurancy:\", model1AccuracyTanhReLuSGD, \"] \\n\")\n",
    "\n",
    "if model1ValidationLossTanhSGD <= model1ValidationLossTanhReLuSGD:\n",
    "    print(\"\\n___________________________________________________\\nLe Modèle LinearMultiClass avec Tanh utilisant l'optimiseur (SGD) est le plus performant !\\n___________________________________________________\\n\")\n",
    "else:\n",
    "    print(\"\\n___________________________________________________\\nLe Modèle LinearMultiClass avec ReLU utilisant l'optimiseur (SGD) est le plus performant !\\n___________________________________________________\\n\")"
   ]
  },
  {
   "cell_type": "code",
   "execution_count": null,
   "id": "ee88441c-bc3e-483a-94c1-83f074e35293",
   "metadata": {
    "tags": []
   },
   "outputs": [],
   "source": [
    "print (\"Model Linear Multi Class With Tanh (Adam): [\\n\\tTemps d'exécution:\", model1ExecutionTimeTanhAdam,\"\\n\\tComplexité:\", model1ComplexityTanhAdam, \"\\n\\tValidation Loss:\", model1ValidationLossTanhAdam, \"\\n\\tAccurancy:\", model1AccuracyTanhAdam, \"] \\n\")\n",
    "print (\"Model Linear Multi Class With ReLU (Adam): [\\n\\tTemps d'exécution:\", model1ExecutionTimeTanhReLuAdam, \"\\n\\tComplexité:\", model1ComplexityTanhReLuAdam, \"\\n\\tValidation Loss:\", model1ValidationLossTanhReLuAdam, \"\\n\\tAccurancy:\", model1AccuracyTanhReLuAdam, \"] \\n\")\n",
    "\n",
    "if model1ValidationLossTanhAdam <= model1ValidationLossTanhReLuAdam:\n",
    "    print(\"Donc nous pouvons conclure que l'usage de la fonction d'entrainement en utilisant l'activation <Tanh> avec l'optimiseur Adam est bien plus efficace que l'activation <ReLU> avec l'optimiseur Adam, car :\")\n",
    "    print(\"___________________________________________________\\nLe Modèle LinearMultiClass avec Tanh utilisant l'optimiseur (Adam) est le plus performant !\\n___________________________________________________\\n\")\n",
    "else:\n",
    "    print(\"Donc nous pouvons conclure que l'usage de la fonction d'entrainement en utilisant l'activation <ReLU> avec l'optimiseur Adam est bien plus efficace que l'activation <Tanh> avec l'optimiseur Adam, car :\")\n",
    "    print(\"___________________________________________________\\nLe Modèle LinearMultiClass avec ReLU utilisant l'optimiseur (Adam) est le plus performant !\\n___________________________________________________\\n\")"
   ]
  },
  {
   "cell_type": "markdown",
   "id": "d24620d1-00f9-4200-83fe-918c527c7278",
   "metadata": {},
   "source": [
    "### Construction d'un histogramme avec les données du modèle"
   ]
  },
  {
   "cell_type": "code",
   "execution_count": null,
   "id": "fde3caa1-29f6-47eb-b1e9-acb46d74b173",
   "metadata": {
    "tags": []
   },
   "outputs": [],
   "source": [
    "summary = SummaryWriter(f\"{TB_PATH}/{model.name}-historigramm\")\n",
    "addWeightsHisto(summary, model, epoch)\n",
    "\n",
    "# Load the TensorBoard notebook extension\n",
    "%load_ext tensorboard\n",
    "%tensorboard --logdir {TB_PATH}/{model.name}-historigramm"
   ]
  },
  {
   "cell_type": "markdown",
   "id": "626689fa-2e46-4c7f-aee2-00131df01c51",
   "metadata": {
    "tags": []
   },
   "source": [
    "### Pénalisation des couches\n",
    "Une première technique pour éviter le sur-apprentissage est de régulariser chaque couche par une pénalisation sur les poids, i.e. de favoriser des poids faibles. On parle de pénalisation L1 lorsque la pénalité est de la forme $\\|W\\|_1$ et L2 lorsque la norme L2 est utilisée : $\\|W\\|_2^2$. En pratique, cela consiste à rajouter à la fonction de coût globale du réseau un terme en $\\lambda Pen(W)$ pour les paramètres de chaque couche que l'on veut régulariser."
   ]
  },
  {
   "cell_type": "markdown",
   "id": "cccec895-965b-4be4-b31e-ef79652a04d1",
   "metadata": {
    "tags": []
   },
   "source": [
    "#### Pour la norme L2 de 10^-5"
   ]
  },
  {
   "cell_type": "code",
   "execution_count": null,
   "id": "49d18464-ccb6-4bef-b303-9e75a3a3603e",
   "metadata": {
    "tags": []
   },
   "outputs": [],
   "source": [
    "print(\"__________________LA NORME L2 DE 10^−5 (Adam)__________________\")\n",
    "weight_decay = 10e-5\n",
    "model = LinearMultiClass(in_size, out_size, hidden_layers, activation=nn.Tanh())\n",
    "criterion = nn.CrossEntropyLoss()\n",
    "optimizer = torch.optim.Adam(model.parameters(), lr=0.001, weight_decay=weight_decay)\n",
    "train(model, train_loader, validation_loader, loss_fn, optimizer, epochs=100, typeTrain=\"L2-Adam-10e-5\")"
   ]
  },
  {
   "cell_type": "code",
   "execution_count": null,
   "id": "36a0b526-b643-4b2c-a3e9-88df7d7a4a8e",
   "metadata": {
    "tags": []
   },
   "outputs": [],
   "source": [
    "print(\"__________________LA NORME L2 DE 10^−5 (SGD)__________________\")\n",
    "weight_decay = 10e-5\n",
    "model = LinearMultiClass(in_size, out_size, hidden_layers, activation=nn.Tanh())\n",
    "criterion = nn.CrossEntropyLoss()\n",
    "optimizer = torch.optim.SGD(model.parameters(), lr=0.001, weight_decay=weight_decay)\n",
    "train(model, train_loader, validation_loader, loss_fn, optimizer, epochs=100, typeTrain=\"L2-SGD-10e-5\")"
   ]
  },
  {
   "cell_type": "markdown",
   "id": "58584734-4919-4f69-95b8-5a8d0a2bdc65",
   "metadata": {},
   "source": [
    "#### Pour la norme L2 de 10^-4"
   ]
  },
  {
   "cell_type": "code",
   "execution_count": null,
   "id": "13065dc8-28bb-477a-9465-433c00bad0c3",
   "metadata": {
    "tags": []
   },
   "outputs": [],
   "source": [
    "print(\"\\n__________________LA NORME L2 DE 10^-4 (Adam)__________________\")\n",
    "weight_decay = 10e-4\n",
    "model = LinearMultiClass(in_size, out_size, hidden_layers, activation=nn.Tanh())\n",
    "criterion = nn.CrossEntropyLoss()\n",
    "optimizer = torch.optim.Adam(model.parameters(), lr=0.001, weight_decay=weight_decay)\n",
    "train(model, train_loader, validation_loader, loss_fn, optimizer, epochs=100, typeTrain=\"L2-Adam-10e-4\")"
   ]
  },
  {
   "cell_type": "code",
   "execution_count": null,
   "id": "a1a489ed-3c00-4d75-988f-52e4eaed75c8",
   "metadata": {
    "tags": []
   },
   "outputs": [],
   "source": [
    "print(\"\\n__________________LA NORME L2 DE 10^-4 (SGD)__________________\")\n",
    "weight_decay = 10e-4\n",
    "model = LinearMultiClass(in_size, out_size, hidden_layers, activation=nn.Tanh())\n",
    "criterion = nn.CrossEntropyLoss()\n",
    "optimizer = torch.optim.SGD(model.parameters(), lr=0.001, weight_decay=weight_decay)\n",
    "train(model, train_loader, validation_loader, loss_fn, optimizer, epochs=100, typeTrain=\"L2-SGD-10e-4\")"
   ]
  },
  {
   "cell_type": "markdown",
   "id": "78763c7c-0419-426a-bb74-cafa71a85da5",
   "metadata": {},
   "source": [
    "#### Pour la norme L2 de 10^-3"
   ]
  },
  {
   "cell_type": "code",
   "execution_count": null,
   "id": "1185a6b1-5396-4a3e-8d26-a61136f3f86e",
   "metadata": {
    "tags": []
   },
   "outputs": [],
   "source": [
    "print(\"\\n__________________LA NORME L2 DE 10^-3 (Adam)__________________\")\n",
    "weight_decay = 10e-3\n",
    "model = LinearMultiClass(in_size, out_size, hidden_layers, activation=nn.Tanh())\n",
    "criterion = nn.CrossEntropyLoss()\n",
    "optimizer = torch.optim.Adam(model.parameters(), lr=0.001, weight_decay=weight_decay)\n",
    "train(model, train_loader, validation_loader, loss_fn, optimizer, epochs=100, typeTrain=\"L2-Adam-10e-3\")"
   ]
  },
  {
   "cell_type": "code",
   "execution_count": null,
   "id": "3bb32e0a-7aac-495c-8f25-d54192708c57",
   "metadata": {
    "tags": []
   },
   "outputs": [],
   "source": [
    "print(\"\\n__________________LA NORME L2 DE 10^-3 (SGD)__________________\")\n",
    "weight_decay = 10e-3\n",
    "model = LinearMultiClass(in_size, out_size, hidden_layers, activation=nn.Tanh())\n",
    "criterion = nn.CrossEntropyLoss()\n",
    "optimizer = torch.optim.SGD(model.parameters(), lr=0.001, weight_decay=weight_decay)\n",
    "train(model, train_loader, validation_loader, loss_fn, optimizer, epochs=100, typeTrain=\"L2-SGD-10e-3\")"
   ]
  },
  {
   "cell_type": "markdown",
   "id": "4cb2a463-da10-4896-a861-ce94997a68d0",
   "metadata": {},
   "source": [
    "#### Pour la norme L2 de 0"
   ]
  },
  {
   "cell_type": "code",
   "execution_count": null,
   "id": "9e549dd4-7f80-4d1a-ba49-e8b9f70fd3d1",
   "metadata": {
    "tags": []
   },
   "outputs": [],
   "source": [
    "print(\"\\n__________________LA NORME L2 DE 0 (Adam)__________________\")\n",
    "weight_decay = 0\n",
    "model = LinearMultiClass(in_size, out_size, hidden_layers, activation=nn.Tanh())\n",
    "criterion = nn.CrossEntropyLoss()\n",
    "optimizer = torch.optim.Adam(model.parameters(), lr=0.001, weight_decay=weight_decay)\n",
    "train(model, train_loader, validation_loader, loss_fn, optimizer, epochs=100, typeTrain=\"L2-Adam-10e-0\")"
   ]
  },
  {
   "cell_type": "code",
   "execution_count": null,
   "id": "f400ebce-2354-428c-82f0-97752623f0cc",
   "metadata": {
    "tags": []
   },
   "outputs": [],
   "source": [
    "print(\"\\n__________________LA NORME L2 DE 0 (SGD)__________________\")\n",
    "weight_decay = 0\n",
    "model = LinearMultiClass(in_size, out_size, hidden_layers, activation=nn.Tanh())\n",
    "criterion = nn.CrossEntropyLoss()\n",
    "optimizer = torch.optim.SGD(model.parameters(), lr=0.001, weight_decay=weight_decay)\n",
    "train(model, train_loader, validation_loader, loss_fn, optimizer, epochs=100, typeTrain=\"L2-SGD-10e-0\")"
   ]
  },
  {
   "cell_type": "markdown",
   "id": "77394b67-00e5-44e4-92f0-db66bc7be39b",
   "metadata": {},
   "source": [
    "## Modèle LinearMultiClassWithDropout\n",
    "\n",
    "Une autre technique très utilisée est le <a href=https://pytorch.org/docs/stable/generated/torch.nn.Dropout.html> **Dropout** </a>. L’idée du Dropout est proche du moyennage de modèle : en entraînant k modèles de manière indépendante, on réduit la variance du modèle. Entraîner k modèles présente un surcoût non négligeable, et l’intérêt du Dropout est de réduire la complexité mémoire/temps de calcul. Le Dropout consiste à chaque itération à *geler* certains neurones aléatoirement dans le réseau en fixant leur sortie à zéro. Cela a pour conséquence de rendre plus robuste le réseau."
   ]
  },
  {
   "cell_type": "code",
   "execution_count": null,
   "id": "53d278b6-d7c1-4cb0-955e-7f0b457dbb5a",
   "metadata": {
    "tags": []
   },
   "outputs": [],
   "source": [
    "dropout_rate = 0.5\n",
    "model = LinearMultiClassWithDropout(in_size, out_size, hidden_layers, dropout_rate)\n",
    "\n",
    "# Define our loss function and optimizer\n",
    "loss_fn = nn.CrossEntropyLoss()\n",
    "optimizer = torch.optim.Adam(model.parameters(), lr=0.001)\n",
    "\n",
    "# Train the model Dropout\n",
    "model2ExecutionTimeAdam, model2ComplexityAdam, model2ValidationLossAdam, model2AccuracyAdam = train_dropout(model, train_loader, validation_loader, loss_fn, optimizer, epochs=100, dropout_rate=dropout_rate, typeTrain=\"Dropout-Adam\")"
   ]
  },
  {
   "cell_type": "code",
   "execution_count": null,
   "id": "6af10827-6de4-445d-a6b8-398bb2502311",
   "metadata": {
    "tags": []
   },
   "outputs": [],
   "source": [
    "dropout_rate = 0.5\n",
    "model = LinearMultiClassWithDropout(in_size, out_size, hidden_layers, dropout_rate)\n",
    "\n",
    "# Define our loss function and optimizer\n",
    "loss_fn = nn.CrossEntropyLoss()\n",
    "optimizer = torch.optim.SGD(model.parameters(), lr=0.001)\n",
    "\n",
    "# Train the model Dropout\n",
    "model2ExecutionTimeSGD, model2ComplexitySGD, model2ValidationLossSGD, model2AccuracySGD = train_dropout(model, train_loader, validation_loader, loss_fn, optimizer, epochs=100, dropout_rate=dropout_rate, typeTrain=\"Dropout-SGD\")"
   ]
  },
  {
   "cell_type": "markdown",
   "id": "ca9ccada-85f8-44e9-9e7d-596b1b715c87",
   "metadata": {},
   "source": [
    "## Modèle LinearMultiClassWithBatchNorm\n",
    "\n",
    "On sait que les données centrées réduites permettent un apprentissage plus rapide et stable d’un modèle ; bien qu’on puisse faire en sorte que les données en entrées soient centrées réduites, cela est plus délicat pour les couches internes d’un réseau de neurones. La technique de <a href=https://pytorch.org/docs/stable/generated/torch.nn.BatchNorm1d.html> **BatchNorm**</a> consiste à ajouter une couche qui a pour but de centrer/réduire les données en utilisant une moyenne/variance glissante (en inférence) et les statistiques du batch (en\n",
    "apprentissage)."
   ]
  },
  {
   "cell_type": "code",
   "execution_count": null,
   "id": "4da6a3be-1a20-4f29-af0f-aed859c0d7c5",
   "metadata": {
    "tags": []
   },
   "outputs": [],
   "source": [
    "model = LinearMultiClassWithBatchNorm(in_size=784, out_size=10, hidden_layers=[256, 128, 64], activation=nn.Softmax())\n",
    "loss_fn = nn.CrossEntropyLoss()\n",
    "optimizer = torch.optim.Adam(model.parameters(), lr=0.001)\n",
    "model3ExecutionTimeAdam, model3ComplexityAdam, model3ValidationLossAdam, model3AccuracyAdam = train_batchnorm(model, train_loader, validation_loader, loss_fn, optimizer, epochs=100, typeTrain=\"BatchNorm-Adam\")"
   ]
  },
  {
   "cell_type": "code",
   "execution_count": null,
   "id": "94a40fbf-54c0-4714-af5e-4f9c2975fc33",
   "metadata": {
    "tags": []
   },
   "outputs": [],
   "source": [
    "model = LinearMultiClassWithBatchNorm(in_size=784, out_size=10, hidden_layers=[256, 128, 64], activation=nn.Softmax())\n",
    "loss_fn = nn.CrossEntropyLoss()\n",
    "optimizer = torch.optim.SGD(model.parameters(), lr=0.001)\n",
    "model3ExecutionTimeSGD, model3ComplexitySGD, model3ValidationLossSGD, model3AccuracySGD = train_batchnorm(model, train_loader, validation_loader, loss_fn, optimizer, epochs=100, typeTrain=\"BatchNorm-SGD\")"
   ]
  },
  {
   "cell_type": "markdown",
   "id": "01e970fd-6593-42b8-9937-294586026c74",
   "metadata": {},
   "source": [
    "# Fonction de comparaison des modèles \n",
    "\n",
    "Cette fonction renvoie maintenant des informations détaillées sur les deux modèles, y compris la perte, la précision, la complexité en termes de nombre de paramètres et le temps d'évaluation sur les données de validation. \n",
    "\n",
    "Pour comparer les performances d'un modèle sur des données de validation, il est plus pratique de comparer les moyennes des pertes de validation (validation_loss) calculées sur l'ensemble des données de validation pour chaque époque.\n",
    "\n",
    "<span style=\"color: red;\">N.B.</span> <span style=\"font-style: italic;\">L'accuracy est un métrique couramment utilisé pour évaluer la performance d'un modèle de classification. C'est la proportion de prédictions correctes que le modèle fait par rapport au nombre total de prédictions. L'accuracy est généralement exprimée en pourcentage et peut être calculée en comparant les étiquettes prévues par le modèle avec les étiquettes réelles. Plus l'accuracy est élevée, meilleure est la performance du modèle.</span>"
   ]
  },
  {
   "cell_type": "code",
   "execution_count": null,
   "id": "f6570f29-dd45-4844-8670-8bf94713abe3",
   "metadata": {
    "tags": []
   },
   "outputs": [],
   "source": [
    "def compare_models(executionTimeOfModel1, complexityOfModel1, validationLossOfModel1, accuracyOfModel1, executionTimeOfModel2, complexityOfModel2, validationLossOfModel2, accuracyOfModel2):\n",
    "    print(\"Le modèle 1 a une perte de {} sur les données de validation avec une précision de {}% et une complexité de {} paramètres et un temps d'évaluation de {}s\".format(validationLossOfModel1, accuracyOfModel1*100, complexityOfModel1, executionTimeOfModel1))\n",
    "    print(\"\\nLe modèle 2 a une perte de {} sur les données de validation avec une précision de {}% et une complexité de {} paramètres et un temps d'évaluation de {}s\".format(validationLossOfModel2, accuracyOfModel2*100, complexityOfModel2, executionTimeOfModel2))\n",
    "\n",
    "    if validationLossOfModel1 < validationLossOfModel2:\n",
    "        print(\"\\n\\tLe modèle 1 a une perte plus faible sur les données de validation.\")\n",
    "        return 1\n",
    "    else:\n",
    "        print(\"\\n\\tLe modèle 2 a une perte plus faible sur les données de validation.\")\n",
    "        return 2"
   ]
  },
  {
   "cell_type": "markdown",
   "id": "083fa675-4e57-4c90-869e-5c445d9fd40f",
   "metadata": {},
   "source": [
    "# Comparaison des données des modèles"
   ]
  },
  {
   "cell_type": "markdown",
   "id": "38981fd7-fbec-4ce5-b6f2-b81bb02d020f",
   "metadata": {},
   "source": [
    "## Pour : LinearMultiClass VS LinearMultiClassWithDropout"
   ]
  },
  {
   "cell_type": "code",
   "execution_count": null,
   "id": "25153925-8991-49d5-8a55-b7031a1b9472",
   "metadata": {
    "tags": []
   },
   "outputs": [],
   "source": [
    "resultTest1 = compare_models(model1ExecutionTimeTanhAdam, model1ComplexityTanhAdam, model1ValidationLossTanhAdam, model1AccuracyTanhAdam, model2ExecutionTimeAdam, model2ComplexityAdam, model2ValidationLossAdam, model2AccuracyAdam)\n",
    "\n",
    "if resultTest1 == 1:\n",
    "    print(\"\\n___________________________________________________\\nLe Modèle LinearMultiClass (Adam) est le plus performant !\\n___________________________________________________\\n\")\n",
    "else:\n",
    "    print(\"\\n___________________________________________________\\nLe Modèle LinearMultiClassWithDropout (Adam) est le plus performant !\\n___________________________________________________\\n\")"
   ]
  },
  {
   "cell_type": "code",
   "execution_count": null,
   "id": "7edb21c5-efe5-4525-acca-b669595ace46",
   "metadata": {},
   "outputs": [],
   "source": [
    "resultTest1 = compare_models(model1ExecutionTimeTanhSGD, model1ComplexityTanhSGD, model1ValidationLossTanhSGD, model1AccuracyTanhSGD, model2ExecutionTimeSGD, model2ComplexitySGD, model2ValidationLossSGD, model2AccuracySGD)\n",
    "\n",
    "if resultTest1 == 1:\n",
    "    print(\"\\n___________________________________________________\\nLe Modèle LinearMultiClass (SGD) est le plus performant !\\n___________________________________________________\\n\")\n",
    "else:\n",
    "    print(\"\\n___________________________________________________\\nLe Modèle LinearMultiClassWithDropout (SGD) est le plus performant !\\n___________________________________________________\\n\")"
   ]
  },
  {
   "cell_type": "markdown",
   "id": "b4392e38-c096-4d50-ada4-de705e18aec8",
   "metadata": {},
   "source": [
    "## Pour : LinearMultiClass VS LinearMultiClassWithBatchNorm"
   ]
  },
  {
   "cell_type": "code",
   "execution_count": null,
   "id": "ad5104f4-e64b-4e1c-94ea-61930aec8f7a",
   "metadata": {
    "tags": []
   },
   "outputs": [],
   "source": [
    "resultTest2 = compare_models(model1ExecutionTimeTanhAdam, model1ComplexityTanhAdam, model1ValidationLossTanhAdam, model1AccuracyTanhAdam, model3ExecutionTimeAdam, model3ComplexityAdam, model3ValidationLossAdam, model3AccuracyAdam)\n",
    "\n",
    "if resultTest2 == 1:\n",
    "    print(\"\\n___________________________________________________\\nLe Modèle LinearMultiClass (Adam) est le plus performant !\\n___________________________________________________\\n\")\n",
    "else:\n",
    "    print(\"\\n___________________________________________________\\nLe Modèle LinearMultiClassWithBatchNorm (Adam) est le plus performant !\\n___________________________________________________\\n\")"
   ]
  },
  {
   "cell_type": "code",
   "execution_count": null,
   "id": "fa8b5d5f-8568-4e78-ab72-b77f87af08fe",
   "metadata": {},
   "outputs": [],
   "source": [
    "resultTest2 = compare_models(model1ExecutionTimeTanhSGD, model1ComplexityTanhSGD, model1ValidationLossTanhSGD, model1AccuracyTanhSGD, model3ExecutionTimeSGD, model3ComplexitySGD, model3ValidationLossSGD, model3AccuracySGD)\n",
    "\n",
    "if resultTest2 == 1:\n",
    "    print(\"\\n___________________________________________________\\nLe Modèle LinearMultiClass (SGD) est le plus performant !\\n___________________________________________________\\n\")\n",
    "else:\n",
    "    print(\"\\n___________________________________________________\\nLe Modèle LinearMultiClassWithBatchNorm (SGD) est le plus performant !\\n___________________________________________________\\n\")"
   ]
  },
  {
   "cell_type": "markdown",
   "id": "ee7b7f32-d47c-458c-874d-549340ac015a",
   "metadata": {},
   "source": [
    "## Pour : LinearMultiClassWithDropout VS LinearMultiClassWithBatchNorm"
   ]
  },
  {
   "cell_type": "code",
   "execution_count": null,
   "id": "1a991b17-cc71-4168-8d35-a8904b3274d3",
   "metadata": {
    "tags": []
   },
   "outputs": [],
   "source": [
    "resultTest3 = compare_models(model2ExecutionTimeAdam, model2ComplexityAdam, model2ValidationLossAdam, model2AccuracyAdam, model3ExecutionTimeAdam, model3ComplexityAdam, model3ValidationLossAdam, model3AccuracyAdam)\n",
    "\n",
    "if resultTest3 == 1:\n",
    "    print(\"\\n________________________________________________________________\\nLe Modèle LinearMultiClassWithDropout (Adam) est le plus performant !\\n________________________________________________________________\\n\")\n",
    "else:\n",
    "    print(\"\\n________________________________________________________________\\nLe Modèle LinearMultiClassWithBatchNorm (Adam) est le plus performant !\\n________________________________________________________________\\n\")"
   ]
  },
  {
   "cell_type": "code",
   "execution_count": null,
   "id": "0747bca1-1a81-47d7-b476-e3b0b7dd1a2d",
   "metadata": {},
   "outputs": [],
   "source": [
    "resultTest3 = compare_models(model2ExecutionTimeSGD, model2ComplexitySGD, model2ValidationLossSGD, model2AccuracySGD, model3ExecutionTimeSGD, model3ComplexitySGD, model3ValidationLossSGD, model3AccuracySGD)\n",
    "\n",
    "if resultTest3 == 1:\n",
    "    print(\"\\n________________________________________________________________\\nLe Modèle LinearMultiClassWithDropout (SGD) est le plus performant !\\n________________________________________________________________\\n\")\n",
    "else:\n",
    "    print(\"\\n________________________________________________________________\\nLe Modèle LinearMultiClassWithBatchNorm (SGD) est le plus performant !\\n________________________________________________________________\\n\")"
   ]
  },
  {
   "cell_type": "markdown",
   "id": "0cf7fa02-6c4b-4539-ae27-f8817de96b58",
   "metadata": {},
   "source": [
    "# Conclusion\n",
    "<span style=\"font-style: italic;\"> Nous pouvons donc conclure que le modèle <span style=\"color:green;\">LinearMultiClass</span> est le plus performant des trois (3) modèles que nous avons eu à étudier avec nos jeux de données. En deuxième position <span style=\"color:yellow;\">LinearMultiClassWithBatchNorm</span> et enfin <span style=\"color:red;\">LinearMultiClassWithDropout</span></span>"
   ]
  },
  {
   "cell_type": "code",
   "execution_count": null,
   "id": "2b997071-823e-4c6d-b7a3-ad15a7c30a30",
   "metadata": {
    "tags": []
   },
   "outputs": [],
   "source": [
    "print (\"Model Linear Multi Class With Tanh (Adam): [\\n\\tTemps d'exécution:\", model1ExecutionTimeTanhAdam,\"\\n\\tComplexité:\", model1ComplexityTanhAdam, \"\\n\\tValidation Loss:\", model1ValidationLossTanhAdam, \"\\n\\tAccurancy:\", model1AccuracyTanhAdam, \"] \\n\")\n",
    "print (\"Model Linear Multi Class With ReLU (Adam): [\\n\\tTemps d'exécution:\", model1ExecutionTimeTanhReLuAdam, \"\\n\\tComplexité:\", model1ComplexityTanhReLuAdam, \"\\n\\tValidation Loss:\", model1ValidationLossTanhReLuAdam, \"\\n\\tAccurancy:\", model1AccuracyTanhReLuAdam, \"] \\n\")\n",
    "\n",
    "if model1ValidationLossTanhAdam <= model1ValidationLossTanhReLuAdam:\n",
    "    print(\"\\n___________________________________________________\\nLe Modèle LinearMultiClass avec Tanh utilisant l'optimiseur (Adam) est le plus performant !\\n___________________________________________________\\n\")\n",
    "else:\n",
    "    print(\"\\n___________________________________________________\\nLe Modèle LinearMultiClass avec ReLU utilisant l'optimiseur (Adam) est le plus performant !\\n___________________________________________________\\n\")"
   ]
  }
 ],
 "metadata": {
  "kernelspec": {
   "display_name": "Python 3",
   "language": "python",
   "name": "python3"
  },
  "language_info": {
   "codemirror_mode": {
    "name": "ipython",
    "version": 3
   },
   "file_extension": ".py",
   "mimetype": "text/x-python",
   "name": "python",
   "nbconvert_exporter": "python",
   "pygments_lexer": "ipython3",
   "version": "3.9.2"
  }
 },
 "nbformat": 4,
 "nbformat_minor": 5
}
